{
 "cells": [
  {
   "cell_type": "code",
   "execution_count": 2,
   "id": "058f4868",
   "metadata": {},
   "outputs": [],
   "source": [
    "## load initial packages\n",
    "import pandas as pd\n",
    "import geopandas as gpd\n",
    "import numpy as np\n",
    "import os\n",
    "\n",
    "## repeated printouts\n",
    "from IPython.core.interactiveshell import InteractiveShell\n",
    "InteractiveShell.ast_node_interactivity = \"all\""
   ]
  },
  {
   "cell_type": "code",
   "execution_count": 3,
   "id": "4e4d595e",
   "metadata": {},
   "outputs": [
    {
     "data": {
      "text/html": [
       "<div>\n",
       "<style scoped>\n",
       "    .dataframe tbody tr th:only-of-type {\n",
       "        vertical-align: middle;\n",
       "    }\n",
       "\n",
       "    .dataframe tbody tr th {\n",
       "        vertical-align: top;\n",
       "    }\n",
       "\n",
       "    .dataframe thead th {\n",
       "        text-align: right;\n",
       "    }\n",
       "</style>\n",
       "<table border=\"1\" class=\"dataframe\">\n",
       "  <thead>\n",
       "    <tr style=\"text-align: right;\">\n",
       "      <th></th>\n",
       "      <th>Census block group ID</th>\n",
       "      <th>Health literacy estimate</th>\n",
       "    </tr>\n",
       "  </thead>\n",
       "  <tbody>\n",
       "    <tr>\n",
       "      <th>0</th>\n",
       "      <td>10010201001</td>\n",
       "      <td>248.91</td>\n",
       "    </tr>\n",
       "    <tr>\n",
       "      <th>1</th>\n",
       "      <td>10010201002</td>\n",
       "      <td>248.66</td>\n",
       "    </tr>\n",
       "    <tr>\n",
       "      <th>2</th>\n",
       "      <td>10010202001</td>\n",
       "      <td>233.55</td>\n",
       "    </tr>\n",
       "    <tr>\n",
       "      <th>3</th>\n",
       "      <td>10010202002</td>\n",
       "      <td>238.55</td>\n",
       "    </tr>\n",
       "    <tr>\n",
       "      <th>4</th>\n",
       "      <td>10010203001</td>\n",
       "      <td>247.96</td>\n",
       "    </tr>\n",
       "  </tbody>\n",
       "</table>\n",
       "</div>"
      ],
      "text/plain": [
       "   Census block group ID  Health literacy estimate\n",
       "0            10010201001                    248.91\n",
       "1            10010201002                    248.66\n",
       "2            10010202001                    233.55\n",
       "3            10010202002                    238.55\n",
       "4            10010203001                    247.96"
      ]
     },
     "execution_count": 3,
     "metadata": {},
     "output_type": "execute_result"
    }
   ],
   "source": [
    "## load datasets\n",
    "hls = pd.read_excel(\"../data/HLS_data/national_hl_scores.xlsx\")\n",
    "hls.head()"
   ]
  },
  {
   "cell_type": "code",
   "execution_count": 4,
   "id": "0895c48e",
   "metadata": {},
   "outputs": [
    {
     "data": {
      "text/plain": [
       "<bound method DataFrame.info of        Census block group ID  Health literacy estimate\n",
       "0               010010201001                    248.91\n",
       "1               010010201002                    248.66\n",
       "2               010010202001                    233.55\n",
       "3               010010202002                    238.55\n",
       "4               010010203001                    247.96\n",
       "...                      ...                       ...\n",
       "216859          560459511001                    249.46\n",
       "216860          560459511002                    248.95\n",
       "216861          560459513001                    248.07\n",
       "216862          560459513002                    246.20\n",
       "216863          560459513003                    253.89\n",
       "\n",
       "[216864 rows x 2 columns]>"
      ]
     },
     "execution_count": 4,
     "metadata": {},
     "output_type": "execute_result"
    }
   ],
   "source": [
    "hls['Census block group ID'] = hls['Census block group ID'].astype(str)\n",
    "hls['Census block group ID'] = hls['Census block group ID'].apply(lambda x: x.zfill(12) if len(x) == 11 else x)\n",
    "hls.info"
   ]
  },
  {
   "cell_type": "code",
   "execution_count": 25,
   "id": "9124351a",
   "metadata": {},
   "outputs": [
    {
     "data": {
      "text/plain": [
       "15794624"
      ]
     },
     "execution_count": 25,
     "metadata": {},
     "output_type": "execute_result"
    },
    {
     "data": {
      "text/plain": [
       "7406041"
      ]
     },
     "execution_count": 25,
     "metadata": {},
     "output_type": "execute_result"
    },
    {
     "data": {
      "text/plain": [
       "11591051"
      ]
     },
     "execution_count": 25,
     "metadata": {},
     "output_type": "execute_result"
    },
    {
     "data": {
      "text/plain": [
       "15698143"
      ]
     },
     "execution_count": 25,
     "metadata": {},
     "output_type": "execute_result"
    },
    {
     "data": {
      "text/plain": [
       "48193003"
      ]
     },
     "execution_count": 25,
     "metadata": {},
     "output_type": "execute_result"
    },
    {
     "data": {
      "text/plain": [
       "12386103"
      ]
     },
     "execution_count": 25,
     "metadata": {},
     "output_type": "execute_result"
    },
    {
     "data": {
      "text/plain": [
       "4952470"
      ]
     },
     "execution_count": 25,
     "metadata": {},
     "output_type": "execute_result"
    },
    {
     "data": {
      "text/plain": [
       "1328435"
      ]
     },
     "execution_count": 25,
     "metadata": {},
     "output_type": "execute_result"
    },
    {
     "data": {
      "text/plain": [
       "506282"
      ]
     },
     "execution_count": 25,
     "metadata": {},
     "output_type": "execute_result"
    },
    {
     "data": {
      "text/plain": [
       "17239228"
      ]
     },
     "execution_count": 25,
     "metadata": {},
     "output_type": "execute_result"
    },
    {
     "data": {
      "text/plain": [
       "18701868"
      ]
     },
     "execution_count": 25,
     "metadata": {},
     "output_type": "execute_result"
    },
    {
     "data": {
      "text/plain": [
       "2135460"
      ]
     },
     "execution_count": 25,
     "metadata": {},
     "output_type": "execute_result"
    },
    {
     "data": {
      "text/plain": [
       "7103830"
      ]
     },
     "execution_count": 25,
     "metadata": {},
     "output_type": "execute_result"
    },
    {
     "data": {
      "text/plain": [
       "17033003"
      ]
     },
     "execution_count": 25,
     "metadata": {},
     "output_type": "execute_result"
    },
    {
     "data": {
      "text/plain": [
       "10982889"
      ]
     },
     "execution_count": 25,
     "metadata": {},
     "output_type": "execute_result"
    },
    {
     "data": {
      "text/plain": [
       "7127156"
      ]
     },
     "execution_count": 25,
     "metadata": {},
     "output_type": "execute_result"
    },
    {
     "data": {
      "text/plain": [
       "5152669"
      ]
     },
     "execution_count": 25,
     "metadata": {},
     "output_type": "execute_result"
    },
    {
     "data": {
      "text/plain": [
       "20206104"
      ]
     },
     "execution_count": 25,
     "metadata": {},
     "output_type": "execute_result"
    },
    {
     "data": {
      "text/plain": [
       "12673713"
      ]
     },
     "execution_count": 25,
     "metadata": {},
     "output_type": "execute_result"
    },
    {
     "data": {
      "text/plain": [
       "4973913"
      ]
     },
     "execution_count": 25,
     "metadata": {},
     "output_type": "execute_result"
    },
    {
     "data": {
      "text/plain": [
       "8806312"
      ]
     },
     "execution_count": 25,
     "metadata": {},
     "output_type": "execute_result"
    },
    {
     "data": {
      "text/plain": [
       "7498767"
      ]
     },
     "execution_count": 25,
     "metadata": {},
     "output_type": "execute_result"
    },
    {
     "data": {
      "text/plain": [
       "10144579"
      ]
     },
     "execution_count": 25,
     "metadata": {},
     "output_type": "execute_result"
    },
    {
     "data": {
      "text/plain": [
       "12001330"
      ]
     },
     "execution_count": 25,
     "metadata": {},
     "output_type": "execute_result"
    },
    {
     "data": {
      "text/plain": [
       "15332839"
      ]
     },
     "execution_count": 25,
     "metadata": {},
     "output_type": "execute_result"
    },
    {
     "data": {
      "text/plain": [
       "17618662"
      ]
     },
     "execution_count": 25,
     "metadata": {},
     "output_type": "execute_result"
    },
    {
     "data": {
      "text/plain": [
       "11242354"
      ]
     },
     "execution_count": 25,
     "metadata": {},
     "output_type": "execute_result"
    },
    {
     "data": {
      "text/plain": [
       "3911762"
      ]
     },
     "execution_count": 25,
     "metadata": {},
     "output_type": "execute_result"
    },
    {
     "data": {
      "text/plain": [
       "4326478"
      ]
     },
     "execution_count": 25,
     "metadata": {},
     "output_type": "execute_result"
    },
    {
     "data": {
      "text/plain": [
       "1928329"
      ]
     },
     "execution_count": 25,
     "metadata": {},
     "output_type": "execute_result"
    },
    {
     "data": {
      "text/plain": [
       "8306473"
      ]
     },
     "execution_count": 25,
     "metadata": {},
     "output_type": "execute_result"
    },
    {
     "data": {
      "text/plain": [
       "7280797"
      ]
     },
     "execution_count": 25,
     "metadata": {},
     "output_type": "execute_result"
    },
    {
     "data": {
      "text/plain": [
       "14808388"
      ]
     },
     "execution_count": 25,
     "metadata": {},
     "output_type": "execute_result"
    },
    {
     "data": {
      "text/plain": [
       "25282238"
      ]
     },
     "execution_count": 25,
     "metadata": {},
     "output_type": "execute_result"
    },
    {
     "data": {
      "text/plain": [
       "2764462"
      ]
     },
     "execution_count": 25,
     "metadata": {},
     "output_type": "execute_result"
    },
    {
     "data": {
      "text/plain": [
       "17073652"
      ]
     },
     "execution_count": 25,
     "metadata": {},
     "output_type": "execute_result"
    },
    {
     "data": {
      "text/plain": [
       "10139058"
      ]
     },
     "execution_count": 25,
     "metadata": {},
     "output_type": "execute_result"
    },
    {
     "data": {
      "text/plain": [
       "15916041"
      ]
     },
     "execution_count": 25,
     "metadata": {},
     "output_type": "execute_result"
    },
    {
     "data": {
      "text/plain": [
       "23378241"
      ]
     },
     "execution_count": 25,
     "metadata": {},
     "output_type": "execute_result"
    },
    {
     "data": {
      "text/plain": [
       "1310423"
      ]
     },
     "execution_count": 25,
     "metadata": {},
     "output_type": "execute_result"
    },
    {
     "data": {
      "text/plain": [
       "13330941"
      ]
     },
     "execution_count": 25,
     "metadata": {},
     "output_type": "execute_result"
    },
    {
     "data": {
      "text/plain": [
       "5063804"
      ]
     },
     "execution_count": 25,
     "metadata": {},
     "output_type": "execute_result"
    },
    {
     "data": {
      "text/plain": [
       "22925589"
      ]
     },
     "execution_count": 25,
     "metadata": {},
     "output_type": "execute_result"
    },
    {
     "data": {
      "text/plain": [
       "43042679"
      ]
     },
     "execution_count": 25,
     "metadata": {},
     "output_type": "execute_result"
    },
    {
     "data": {
      "text/plain": [
       "7610528"
      ]
     },
     "execution_count": 25,
     "metadata": {},
     "output_type": "execute_result"
    },
    {
     "data": {
      "text/plain": [
       "1555555"
      ]
     },
     "execution_count": 25,
     "metadata": {},
     "output_type": "execute_result"
    },
    {
     "data": {
      "text/plain": [
       "22088478"
      ]
     },
     "execution_count": 25,
     "metadata": {},
     "output_type": "execute_result"
    },
    {
     "data": {
      "text/plain": [
       "14613912"
      ]
     },
     "execution_count": 25,
     "metadata": {},
     "output_type": "execute_result"
    },
    {
     "data": {
      "text/plain": [
       "14762194"
      ]
     },
     "execution_count": 25,
     "metadata": {},
     "output_type": "execute_result"
    },
    {
     "data": {
      "text/plain": [
       "13236564"
      ]
     },
     "execution_count": 25,
     "metadata": {},
     "output_type": "execute_result"
    },
    {
     "data": {
      "text/plain": [
       "4221126"
      ]
     },
     "execution_count": 25,
     "metadata": {},
     "output_type": "execute_result"
    },
    {
     "data": {
      "text/plain": [
       "128516"
      ]
     },
     "execution_count": 25,
     "metadata": {},
     "output_type": "execute_result"
    },
    {
     "data": {
      "text/plain": [
       "338971"
      ]
     },
     "execution_count": 25,
     "metadata": {},
     "output_type": "execute_result"
    },
    {
     "data": {
      "text/plain": [
       "207083"
      ]
     },
     "execution_count": 25,
     "metadata": {},
     "output_type": "execute_result"
    },
    {
     "data": {
      "text/plain": [
       "5251831"
      ]
     },
     "execution_count": 25,
     "metadata": {},
     "output_type": "execute_result"
    },
    {
     "data": {
      "text/plain": [
       "837948"
      ]
     },
     "execution_count": 25,
     "metadata": {},
     "output_type": "execute_result"
    }
   ],
   "source": [
    "import requests\n",
    "import re\n",
    "import zipfile\n",
    "import os\n",
    "\n",
    "# URL of the website\n",
    "url = \"https://www2.census.gov/geo/tiger/TIGER2010/BG/2000/\"\n",
    "\n",
    "# Send a GET request to the URL\n",
    "response = requests.get(url)\n",
    "\n",
    "# Extract the links to .zip files using regular expressions\n",
    "zip_links = re.findall(r'href=[\\'\"]?([^\\'\" >]+\\.zip)', response.text)\n",
    "\n",
    "# Define the pattern to match\n",
    "pattern = r'tl_2010_[0-9]{2}_bg00.zip'\n",
    "\n",
    "# Filter the links to keep only the ones matching the defined pattern\n",
    "filtered_links = [link for link in zip_links if re.match(pattern, link)]\n",
    "\n",
    "# Specify the target directory for extraction\n",
    "target_directory = \"../data/mapping_data\"\n",
    "\n",
    "# Download and unzip the filtered links\n",
    "for link in filtered_links:\n",
    "    # Construct the download URL\n",
    "    download_url = url + link\n",
    "    \n",
    "    # Send a GET request to download the file\n",
    "    download_response = requests.get(download_url)\n",
    "    \n",
    "    # Save the downloaded file\n",
    "    file_path = os.path.join(target_directory, link)\n",
    "    with open(file_path, 'wb') as file:\n",
    "        file.write(download_response.content)\n",
    "    \n",
    "    # Unzip the file to the target directory\n",
    "    with zipfile.ZipFile(file_path, 'r') as zip_ref:\n",
    "        zip_ref.extractall(target_directory)\n",
    "    \n",
    "    # Remove the downloaded zip file\n",
    "    os.remove(file_path)\n"
   ]
  },
  {
   "cell_type": "code",
   "execution_count": 5,
   "id": "e6ec89cc",
   "metadata": {},
   "outputs": [],
   "source": [
    "# import os\n",
    "# import zipfile\n",
    "\n",
    "# directory = \"../data/HLS_data\"  # Replace with the directory containing the zip files\n",
    "\n",
    "# # Iterate over all files in the directory\n",
    "# for file_name in os.listdir(directory):\n",
    "#     if file_name.endswith(\".zip\"):\n",
    "#         file_path = os.path.join(directory, file_name)\n",
    "\n",
    "#         with zipfile.ZipFile(file_path, 'r') as zip_ref:\n",
    "#             zip_ref.extractall(directory)\n",
    "\n",
    "#         print(f\"Unzipped: {file_name}\")\n",
    "\n",
    "# print(\"All zip files extracted successfully.\")\n"
   ]
  },
  {
   "cell_type": "code",
   "execution_count": 6,
   "id": "be8e38d9",
   "metadata": {},
   "outputs": [],
   "source": [
    "# directory = \"../data/HLS_data\"  # Replace with the directory containing the extracted files\n",
    "\n",
    "# # Iterate over all files in the directory\n",
    "# for file_name in os.listdir(directory):\n",
    "#     file_path = os.path.join(directory, file_name)\n",
    "\n",
    "#     if file_name.endswith(\".shp\"):\n",
    "#         # Keep .shp file, do nothing\n",
    "#         pass\n",
    "#     else:\n",
    "#         # Delete the file if it's not a .shp file\n",
    "#         os.remove(file_path)\n",
    "#         print(f\"Deleted: {file_name}\")\n",
    "\n",
    "# print(\"Cleanup completed.\")\n"
   ]
  },
  {
   "cell_type": "code",
   "execution_count": 7,
   "id": "20ee0b2b",
   "metadata": {},
   "outputs": [],
   "source": [
    "# import os\n",
    "# import shapefile\n",
    "\n",
    "# directory = \"../data/HLS_data\"  # Replace with the directory containing the .shp files\n",
    "\n",
    "# # Iterate over all files in the directory\n",
    "# for file_name in os.listdir(directory):\n",
    "#     if file_name.endswith(\".shp\"):\n",
    "#         shapefile_path = os.path.join(directory, file_name)\n",
    "\n",
    "#         # Restore the .shx file\n",
    "#         shapefile.fix_index(shapefile_path)\n",
    "\n",
    "# print(\"All .shx files restored.\")\n",
    "\n"
   ]
  },
  {
   "cell_type": "code",
   "execution_count": 31,
   "id": "f850d0e7",
   "metadata": {},
   "outputs": [
    {
     "name": "stderr",
     "output_type": "stream",
     "text": [
      "/var/folders/4l/ygb5zg1102qg26s9tsr84m0w0000gn/T/ipykernel_79770/1010026808.py:18: FutureWarning: The frame.append method is deprecated and will be removed from pandas in a future version. Use pandas.concat instead.\n",
      "  combined_gdf = combined_gdf.append(gdf, ignore_index=True)\n",
      "/var/folders/4l/ygb5zg1102qg26s9tsr84m0w0000gn/T/ipykernel_79770/1010026808.py:18: FutureWarning: The frame.append method is deprecated and will be removed from pandas in a future version. Use pandas.concat instead.\n",
      "  combined_gdf = combined_gdf.append(gdf, ignore_index=True)\n",
      "/var/folders/4l/ygb5zg1102qg26s9tsr84m0w0000gn/T/ipykernel_79770/1010026808.py:18: FutureWarning: The frame.append method is deprecated and will be removed from pandas in a future version. Use pandas.concat instead.\n",
      "  combined_gdf = combined_gdf.append(gdf, ignore_index=True)\n",
      "/var/folders/4l/ygb5zg1102qg26s9tsr84m0w0000gn/T/ipykernel_79770/1010026808.py:18: FutureWarning: The frame.append method is deprecated and will be removed from pandas in a future version. Use pandas.concat instead.\n",
      "  combined_gdf = combined_gdf.append(gdf, ignore_index=True)\n",
      "/var/folders/4l/ygb5zg1102qg26s9tsr84m0w0000gn/T/ipykernel_79770/1010026808.py:18: FutureWarning: The frame.append method is deprecated and will be removed from pandas in a future version. Use pandas.concat instead.\n",
      "  combined_gdf = combined_gdf.append(gdf, ignore_index=True)\n",
      "/var/folders/4l/ygb5zg1102qg26s9tsr84m0w0000gn/T/ipykernel_79770/1010026808.py:18: FutureWarning: The frame.append method is deprecated and will be removed from pandas in a future version. Use pandas.concat instead.\n",
      "  combined_gdf = combined_gdf.append(gdf, ignore_index=True)\n",
      "/var/folders/4l/ygb5zg1102qg26s9tsr84m0w0000gn/T/ipykernel_79770/1010026808.py:18: FutureWarning: The frame.append method is deprecated and will be removed from pandas in a future version. Use pandas.concat instead.\n",
      "  combined_gdf = combined_gdf.append(gdf, ignore_index=True)\n",
      "/var/folders/4l/ygb5zg1102qg26s9tsr84m0w0000gn/T/ipykernel_79770/1010026808.py:18: FutureWarning: The frame.append method is deprecated and will be removed from pandas in a future version. Use pandas.concat instead.\n",
      "  combined_gdf = combined_gdf.append(gdf, ignore_index=True)\n",
      "/var/folders/4l/ygb5zg1102qg26s9tsr84m0w0000gn/T/ipykernel_79770/1010026808.py:18: FutureWarning: The frame.append method is deprecated and will be removed from pandas in a future version. Use pandas.concat instead.\n",
      "  combined_gdf = combined_gdf.append(gdf, ignore_index=True)\n",
      "/var/folders/4l/ygb5zg1102qg26s9tsr84m0w0000gn/T/ipykernel_79770/1010026808.py:18: FutureWarning: The frame.append method is deprecated and will be removed from pandas in a future version. Use pandas.concat instead.\n",
      "  combined_gdf = combined_gdf.append(gdf, ignore_index=True)\n",
      "/var/folders/4l/ygb5zg1102qg26s9tsr84m0w0000gn/T/ipykernel_79770/1010026808.py:18: FutureWarning: The frame.append method is deprecated and will be removed from pandas in a future version. Use pandas.concat instead.\n",
      "  combined_gdf = combined_gdf.append(gdf, ignore_index=True)\n",
      "/var/folders/4l/ygb5zg1102qg26s9tsr84m0w0000gn/T/ipykernel_79770/1010026808.py:18: FutureWarning: The frame.append method is deprecated and will be removed from pandas in a future version. Use pandas.concat instead.\n",
      "  combined_gdf = combined_gdf.append(gdf, ignore_index=True)\n",
      "/var/folders/4l/ygb5zg1102qg26s9tsr84m0w0000gn/T/ipykernel_79770/1010026808.py:18: FutureWarning: The frame.append method is deprecated and will be removed from pandas in a future version. Use pandas.concat instead.\n",
      "  combined_gdf = combined_gdf.append(gdf, ignore_index=True)\n",
      "/var/folders/4l/ygb5zg1102qg26s9tsr84m0w0000gn/T/ipykernel_79770/1010026808.py:18: FutureWarning: The frame.append method is deprecated and will be removed from pandas in a future version. Use pandas.concat instead.\n",
      "  combined_gdf = combined_gdf.append(gdf, ignore_index=True)\n",
      "/var/folders/4l/ygb5zg1102qg26s9tsr84m0w0000gn/T/ipykernel_79770/1010026808.py:18: FutureWarning: The frame.append method is deprecated and will be removed from pandas in a future version. Use pandas.concat instead.\n",
      "  combined_gdf = combined_gdf.append(gdf, ignore_index=True)\n",
      "/var/folders/4l/ygb5zg1102qg26s9tsr84m0w0000gn/T/ipykernel_79770/1010026808.py:18: FutureWarning: The frame.append method is deprecated and will be removed from pandas in a future version. Use pandas.concat instead.\n",
      "  combined_gdf = combined_gdf.append(gdf, ignore_index=True)\n",
      "/var/folders/4l/ygb5zg1102qg26s9tsr84m0w0000gn/T/ipykernel_79770/1010026808.py:18: FutureWarning: The frame.append method is deprecated and will be removed from pandas in a future version. Use pandas.concat instead.\n",
      "  combined_gdf = combined_gdf.append(gdf, ignore_index=True)\n",
      "/var/folders/4l/ygb5zg1102qg26s9tsr84m0w0000gn/T/ipykernel_79770/1010026808.py:18: FutureWarning: The frame.append method is deprecated and will be removed from pandas in a future version. Use pandas.concat instead.\n",
      "  combined_gdf = combined_gdf.append(gdf, ignore_index=True)\n",
      "/var/folders/4l/ygb5zg1102qg26s9tsr84m0w0000gn/T/ipykernel_79770/1010026808.py:18: FutureWarning: The frame.append method is deprecated and will be removed from pandas in a future version. Use pandas.concat instead.\n",
      "  combined_gdf = combined_gdf.append(gdf, ignore_index=True)\n",
      "/var/folders/4l/ygb5zg1102qg26s9tsr84m0w0000gn/T/ipykernel_79770/1010026808.py:18: FutureWarning: The frame.append method is deprecated and will be removed from pandas in a future version. Use pandas.concat instead.\n",
      "  combined_gdf = combined_gdf.append(gdf, ignore_index=True)\n",
      "/var/folders/4l/ygb5zg1102qg26s9tsr84m0w0000gn/T/ipykernel_79770/1010026808.py:18: FutureWarning: The frame.append method is deprecated and will be removed from pandas in a future version. Use pandas.concat instead.\n",
      "  combined_gdf = combined_gdf.append(gdf, ignore_index=True)\n",
      "/var/folders/4l/ygb5zg1102qg26s9tsr84m0w0000gn/T/ipykernel_79770/1010026808.py:18: FutureWarning: The frame.append method is deprecated and will be removed from pandas in a future version. Use pandas.concat instead.\n",
      "  combined_gdf = combined_gdf.append(gdf, ignore_index=True)\n",
      "/var/folders/4l/ygb5zg1102qg26s9tsr84m0w0000gn/T/ipykernel_79770/1010026808.py:18: FutureWarning: The frame.append method is deprecated and will be removed from pandas in a future version. Use pandas.concat instead.\n",
      "  combined_gdf = combined_gdf.append(gdf, ignore_index=True)\n",
      "/var/folders/4l/ygb5zg1102qg26s9tsr84m0w0000gn/T/ipykernel_79770/1010026808.py:18: FutureWarning: The frame.append method is deprecated and will be removed from pandas in a future version. Use pandas.concat instead.\n",
      "  combined_gdf = combined_gdf.append(gdf, ignore_index=True)\n",
      "/var/folders/4l/ygb5zg1102qg26s9tsr84m0w0000gn/T/ipykernel_79770/1010026808.py:18: FutureWarning: The frame.append method is deprecated and will be removed from pandas in a future version. Use pandas.concat instead.\n",
      "  combined_gdf = combined_gdf.append(gdf, ignore_index=True)\n",
      "/var/folders/4l/ygb5zg1102qg26s9tsr84m0w0000gn/T/ipykernel_79770/1010026808.py:18: FutureWarning: The frame.append method is deprecated and will be removed from pandas in a future version. Use pandas.concat instead.\n",
      "  combined_gdf = combined_gdf.append(gdf, ignore_index=True)\n",
      "/var/folders/4l/ygb5zg1102qg26s9tsr84m0w0000gn/T/ipykernel_79770/1010026808.py:18: FutureWarning: The frame.append method is deprecated and will be removed from pandas in a future version. Use pandas.concat instead.\n",
      "  combined_gdf = combined_gdf.append(gdf, ignore_index=True)\n",
      "/var/folders/4l/ygb5zg1102qg26s9tsr84m0w0000gn/T/ipykernel_79770/1010026808.py:18: FutureWarning: The frame.append method is deprecated and will be removed from pandas in a future version. Use pandas.concat instead.\n",
      "  combined_gdf = combined_gdf.append(gdf, ignore_index=True)\n",
      "/var/folders/4l/ygb5zg1102qg26s9tsr84m0w0000gn/T/ipykernel_79770/1010026808.py:18: FutureWarning: The frame.append method is deprecated and will be removed from pandas in a future version. Use pandas.concat instead.\n",
      "  combined_gdf = combined_gdf.append(gdf, ignore_index=True)\n",
      "/var/folders/4l/ygb5zg1102qg26s9tsr84m0w0000gn/T/ipykernel_79770/1010026808.py:18: FutureWarning: The frame.append method is deprecated and will be removed from pandas in a future version. Use pandas.concat instead.\n",
      "  combined_gdf = combined_gdf.append(gdf, ignore_index=True)\n"
     ]
    },
    {
     "name": "stderr",
     "output_type": "stream",
     "text": [
      "/var/folders/4l/ygb5zg1102qg26s9tsr84m0w0000gn/T/ipykernel_79770/1010026808.py:18: FutureWarning: The frame.append method is deprecated and will be removed from pandas in a future version. Use pandas.concat instead.\n",
      "  combined_gdf = combined_gdf.append(gdf, ignore_index=True)\n",
      "/var/folders/4l/ygb5zg1102qg26s9tsr84m0w0000gn/T/ipykernel_79770/1010026808.py:18: FutureWarning: The frame.append method is deprecated and will be removed from pandas in a future version. Use pandas.concat instead.\n",
      "  combined_gdf = combined_gdf.append(gdf, ignore_index=True)\n",
      "/var/folders/4l/ygb5zg1102qg26s9tsr84m0w0000gn/T/ipykernel_79770/1010026808.py:18: FutureWarning: The frame.append method is deprecated and will be removed from pandas in a future version. Use pandas.concat instead.\n",
      "  combined_gdf = combined_gdf.append(gdf, ignore_index=True)\n",
      "/var/folders/4l/ygb5zg1102qg26s9tsr84m0w0000gn/T/ipykernel_79770/1010026808.py:18: FutureWarning: The frame.append method is deprecated and will be removed from pandas in a future version. Use pandas.concat instead.\n",
      "  combined_gdf = combined_gdf.append(gdf, ignore_index=True)\n",
      "/var/folders/4l/ygb5zg1102qg26s9tsr84m0w0000gn/T/ipykernel_79770/1010026808.py:18: FutureWarning: The frame.append method is deprecated and will be removed from pandas in a future version. Use pandas.concat instead.\n",
      "  combined_gdf = combined_gdf.append(gdf, ignore_index=True)\n",
      "/var/folders/4l/ygb5zg1102qg26s9tsr84m0w0000gn/T/ipykernel_79770/1010026808.py:18: FutureWarning: The frame.append method is deprecated and will be removed from pandas in a future version. Use pandas.concat instead.\n",
      "  combined_gdf = combined_gdf.append(gdf, ignore_index=True)\n",
      "/var/folders/4l/ygb5zg1102qg26s9tsr84m0w0000gn/T/ipykernel_79770/1010026808.py:18: FutureWarning: The frame.append method is deprecated and will be removed from pandas in a future version. Use pandas.concat instead.\n",
      "  combined_gdf = combined_gdf.append(gdf, ignore_index=True)\n",
      "/var/folders/4l/ygb5zg1102qg26s9tsr84m0w0000gn/T/ipykernel_79770/1010026808.py:18: FutureWarning: The frame.append method is deprecated and will be removed from pandas in a future version. Use pandas.concat instead.\n",
      "  combined_gdf = combined_gdf.append(gdf, ignore_index=True)\n",
      "/var/folders/4l/ygb5zg1102qg26s9tsr84m0w0000gn/T/ipykernel_79770/1010026808.py:18: FutureWarning: The frame.append method is deprecated and will be removed from pandas in a future version. Use pandas.concat instead.\n",
      "  combined_gdf = combined_gdf.append(gdf, ignore_index=True)\n",
      "/var/folders/4l/ygb5zg1102qg26s9tsr84m0w0000gn/T/ipykernel_79770/1010026808.py:18: FutureWarning: The frame.append method is deprecated and will be removed from pandas in a future version. Use pandas.concat instead.\n",
      "  combined_gdf = combined_gdf.append(gdf, ignore_index=True)\n",
      "/var/folders/4l/ygb5zg1102qg26s9tsr84m0w0000gn/T/ipykernel_79770/1010026808.py:18: FutureWarning: The frame.append method is deprecated and will be removed from pandas in a future version. Use pandas.concat instead.\n",
      "  combined_gdf = combined_gdf.append(gdf, ignore_index=True)\n",
      "/var/folders/4l/ygb5zg1102qg26s9tsr84m0w0000gn/T/ipykernel_79770/1010026808.py:18: FutureWarning: The frame.append method is deprecated and will be removed from pandas in a future version. Use pandas.concat instead.\n",
      "  combined_gdf = combined_gdf.append(gdf, ignore_index=True)\n",
      "/var/folders/4l/ygb5zg1102qg26s9tsr84m0w0000gn/T/ipykernel_79770/1010026808.py:18: FutureWarning: The frame.append method is deprecated and will be removed from pandas in a future version. Use pandas.concat instead.\n",
      "  combined_gdf = combined_gdf.append(gdf, ignore_index=True)\n",
      "/var/folders/4l/ygb5zg1102qg26s9tsr84m0w0000gn/T/ipykernel_79770/1010026808.py:18: FutureWarning: The frame.append method is deprecated and will be removed from pandas in a future version. Use pandas.concat instead.\n",
      "  combined_gdf = combined_gdf.append(gdf, ignore_index=True)\n",
      "/var/folders/4l/ygb5zg1102qg26s9tsr84m0w0000gn/T/ipykernel_79770/1010026808.py:18: FutureWarning: The frame.append method is deprecated and will be removed from pandas in a future version. Use pandas.concat instead.\n",
      "  combined_gdf = combined_gdf.append(gdf, ignore_index=True)\n",
      "/var/folders/4l/ygb5zg1102qg26s9tsr84m0w0000gn/T/ipykernel_79770/1010026808.py:18: FutureWarning: The frame.append method is deprecated and will be removed from pandas in a future version. Use pandas.concat instead.\n",
      "  combined_gdf = combined_gdf.append(gdf, ignore_index=True)\n",
      "/var/folders/4l/ygb5zg1102qg26s9tsr84m0w0000gn/T/ipykernel_79770/1010026808.py:18: FutureWarning: The frame.append method is deprecated and will be removed from pandas in a future version. Use pandas.concat instead.\n",
      "  combined_gdf = combined_gdf.append(gdf, ignore_index=True)\n",
      "/var/folders/4l/ygb5zg1102qg26s9tsr84m0w0000gn/T/ipykernel_79770/1010026808.py:18: FutureWarning: The frame.append method is deprecated and will be removed from pandas in a future version. Use pandas.concat instead.\n",
      "  combined_gdf = combined_gdf.append(gdf, ignore_index=True)\n",
      "/var/folders/4l/ygb5zg1102qg26s9tsr84m0w0000gn/T/ipykernel_79770/1010026808.py:18: FutureWarning: The frame.append method is deprecated and will be removed from pandas in a future version. Use pandas.concat instead.\n",
      "  combined_gdf = combined_gdf.append(gdf, ignore_index=True)\n",
      "/var/folders/4l/ygb5zg1102qg26s9tsr84m0w0000gn/T/ipykernel_79770/1010026808.py:18: FutureWarning: The frame.append method is deprecated and will be removed from pandas in a future version. Use pandas.concat instead.\n",
      "  combined_gdf = combined_gdf.append(gdf, ignore_index=True)\n",
      "/var/folders/4l/ygb5zg1102qg26s9tsr84m0w0000gn/T/ipykernel_79770/1010026808.py:18: FutureWarning: The frame.append method is deprecated and will be removed from pandas in a future version. Use pandas.concat instead.\n",
      "  combined_gdf = combined_gdf.append(gdf, ignore_index=True)\n",
      "/var/folders/4l/ygb5zg1102qg26s9tsr84m0w0000gn/T/ipykernel_79770/1010026808.py:18: FutureWarning: The frame.append method is deprecated and will be removed from pandas in a future version. Use pandas.concat instead.\n",
      "  combined_gdf = combined_gdf.append(gdf, ignore_index=True)\n",
      "/var/folders/4l/ygb5zg1102qg26s9tsr84m0w0000gn/T/ipykernel_79770/1010026808.py:18: FutureWarning: The frame.append method is deprecated and will be removed from pandas in a future version. Use pandas.concat instead.\n",
      "  combined_gdf = combined_gdf.append(gdf, ignore_index=True)\n",
      "/var/folders/4l/ygb5zg1102qg26s9tsr84m0w0000gn/T/ipykernel_79770/1010026808.py:18: FutureWarning: The frame.append method is deprecated and will be removed from pandas in a future version. Use pandas.concat instead.\n",
      "  combined_gdf = combined_gdf.append(gdf, ignore_index=True)\n",
      "/var/folders/4l/ygb5zg1102qg26s9tsr84m0w0000gn/T/ipykernel_79770/1010026808.py:18: FutureWarning: The frame.append method is deprecated and will be removed from pandas in a future version. Use pandas.concat instead.\n",
      "  combined_gdf = combined_gdf.append(gdf, ignore_index=True)\n"
     ]
    },
    {
     "name": "stdout",
     "output_type": "stream",
     "text": [
      "All .shp files read and combined into one GeoDataFrame.\n"
     ]
    },
    {
     "name": "stderr",
     "output_type": "stream",
     "text": [
      "/var/folders/4l/ygb5zg1102qg26s9tsr84m0w0000gn/T/ipykernel_79770/1010026808.py:18: FutureWarning: The frame.append method is deprecated and will be removed from pandas in a future version. Use pandas.concat instead.\n",
      "  combined_gdf = combined_gdf.append(gdf, ignore_index=True)\n"
     ]
    }
   ],
   "source": [
    "# us_map1 = gpd.read_file(\"../tl_2022_01_bg/tl_2022_01_bg.shp\")\n",
    "# us_map1.head()\n",
    "\n",
    "directory = \"../data/HLS_data\"  # Replace with the directory containing the .shp files\n",
    "\n",
    "# Initialize an empty GeoDataFrame\n",
    "combined_gdf = gpd.GeoDataFrame()\n",
    "\n",
    "# Iterate over all files in the directory\n",
    "for file_name in os.listdir(directory):\n",
    "    if file_name.endswith(\".shp\"):\n",
    "        file_path = os.path.join(directory, file_name)\n",
    "\n",
    "        # Read the .shp file as a GeoDataFrame\n",
    "        gdf = gpd.read_file(file_path)\n",
    "\n",
    "        # Append the GeoDataFrame to the combined GeoDataFrame\n",
    "        combined_gdf = combined_gdf.append(gdf, ignore_index=True)\n",
    "\n",
    "print(\"All .shp files read and combined into one GeoDataFrame.\")"
   ]
  },
  {
   "cell_type": "code",
   "execution_count": 9,
   "id": "c26045f3",
   "metadata": {},
   "outputs": [
    {
     "ename": "KeyboardInterrupt",
     "evalue": "",
     "output_type": "error",
     "traceback": [
      "\u001b[0;31m---------------------------------------------------------------------------\u001b[0m",
      "\u001b[0;31mKeyboardInterrupt\u001b[0m                         Traceback (most recent call last)",
      "\u001b[0;32m/var/folders/4l/ygb5zg1102qg26s9tsr84m0w0000gn/T/ipykernel_79692/1769648669.py\u001b[0m in \u001b[0;36m<module>\u001b[0;34m\u001b[0m\n\u001b[0;32m----> 1\u001b[0;31m \u001b[0mcombined_gdf\u001b[0m\u001b[0;34m.\u001b[0m\u001b[0mto_csv\u001b[0m\u001b[0;34m(\u001b[0m\u001b[0;34m\"census_geo.csv\"\u001b[0m\u001b[0;34m)\u001b[0m\u001b[0;34m\u001b[0m\u001b[0;34m\u001b[0m\u001b[0m\n\u001b[0m",
      "\u001b[0;32m~/opt/anaconda3/lib/python3.9/site-packages/pandas/core/generic.py\u001b[0m in \u001b[0;36mto_csv\u001b[0;34m(self, path_or_buf, sep, na_rep, float_format, columns, header, index, index_label, mode, encoding, compression, quoting, quotechar, line_terminator, chunksize, date_format, doublequote, escapechar, decimal, errors, storage_options)\u001b[0m\n\u001b[1;32m   3549\u001b[0m         )\n\u001b[1;32m   3550\u001b[0m \u001b[0;34m\u001b[0m\u001b[0m\n\u001b[0;32m-> 3551\u001b[0;31m         return DataFrameRenderer(formatter).to_csv(\n\u001b[0m\u001b[1;32m   3552\u001b[0m             \u001b[0mpath_or_buf\u001b[0m\u001b[0;34m,\u001b[0m\u001b[0;34m\u001b[0m\u001b[0;34m\u001b[0m\u001b[0m\n\u001b[1;32m   3553\u001b[0m             \u001b[0mline_terminator\u001b[0m\u001b[0;34m=\u001b[0m\u001b[0mline_terminator\u001b[0m\u001b[0;34m,\u001b[0m\u001b[0;34m\u001b[0m\u001b[0;34m\u001b[0m\u001b[0m\n",
      "\u001b[0;32m~/opt/anaconda3/lib/python3.9/site-packages/pandas/io/formats/format.py\u001b[0m in \u001b[0;36mto_csv\u001b[0;34m(self, path_or_buf, encoding, sep, columns, index_label, mode, compression, quoting, quotechar, line_terminator, chunksize, date_format, doublequote, escapechar, errors, storage_options)\u001b[0m\n\u001b[1;32m   1178\u001b[0m             \u001b[0mformatter\u001b[0m\u001b[0;34m=\u001b[0m\u001b[0mself\u001b[0m\u001b[0;34m.\u001b[0m\u001b[0mfmt\u001b[0m\u001b[0;34m,\u001b[0m\u001b[0;34m\u001b[0m\u001b[0;34m\u001b[0m\u001b[0m\n\u001b[1;32m   1179\u001b[0m         )\n\u001b[0;32m-> 1180\u001b[0;31m         \u001b[0mcsv_formatter\u001b[0m\u001b[0;34m.\u001b[0m\u001b[0msave\u001b[0m\u001b[0;34m(\u001b[0m\u001b[0;34m)\u001b[0m\u001b[0;34m\u001b[0m\u001b[0;34m\u001b[0m\u001b[0m\n\u001b[0m\u001b[1;32m   1181\u001b[0m \u001b[0;34m\u001b[0m\u001b[0m\n\u001b[1;32m   1182\u001b[0m         \u001b[0;32mif\u001b[0m \u001b[0mcreated_buffer\u001b[0m\u001b[0;34m:\u001b[0m\u001b[0;34m\u001b[0m\u001b[0;34m\u001b[0m\u001b[0m\n",
      "\u001b[0;32m~/opt/anaconda3/lib/python3.9/site-packages/pandas/io/formats/csvs.py\u001b[0m in \u001b[0;36msave\u001b[0;34m(self)\u001b[0m\n\u001b[1;32m    259\u001b[0m             )\n\u001b[1;32m    260\u001b[0m \u001b[0;34m\u001b[0m\u001b[0m\n\u001b[0;32m--> 261\u001b[0;31m             \u001b[0mself\u001b[0m\u001b[0;34m.\u001b[0m\u001b[0m_save\u001b[0m\u001b[0;34m(\u001b[0m\u001b[0;34m)\u001b[0m\u001b[0;34m\u001b[0m\u001b[0;34m\u001b[0m\u001b[0m\n\u001b[0m\u001b[1;32m    262\u001b[0m \u001b[0;34m\u001b[0m\u001b[0m\n\u001b[1;32m    263\u001b[0m     \u001b[0;32mdef\u001b[0m \u001b[0m_save\u001b[0m\u001b[0;34m(\u001b[0m\u001b[0mself\u001b[0m\u001b[0;34m)\u001b[0m \u001b[0;34m->\u001b[0m \u001b[0;32mNone\u001b[0m\u001b[0;34m:\u001b[0m\u001b[0;34m\u001b[0m\u001b[0;34m\u001b[0m\u001b[0m\n",
      "\u001b[0;32m~/opt/anaconda3/lib/python3.9/site-packages/pandas/io/formats/csvs.py\u001b[0m in \u001b[0;36m_save\u001b[0;34m(self)\u001b[0m\n\u001b[1;32m    264\u001b[0m         \u001b[0;32mif\u001b[0m \u001b[0mself\u001b[0m\u001b[0;34m.\u001b[0m\u001b[0m_need_to_save_header\u001b[0m\u001b[0;34m:\u001b[0m\u001b[0;34m\u001b[0m\u001b[0;34m\u001b[0m\u001b[0m\n\u001b[1;32m    265\u001b[0m             \u001b[0mself\u001b[0m\u001b[0;34m.\u001b[0m\u001b[0m_save_header\u001b[0m\u001b[0;34m(\u001b[0m\u001b[0;34m)\u001b[0m\u001b[0;34m\u001b[0m\u001b[0;34m\u001b[0m\u001b[0m\n\u001b[0;32m--> 266\u001b[0;31m         \u001b[0mself\u001b[0m\u001b[0;34m.\u001b[0m\u001b[0m_save_body\u001b[0m\u001b[0;34m(\u001b[0m\u001b[0;34m)\u001b[0m\u001b[0;34m\u001b[0m\u001b[0;34m\u001b[0m\u001b[0m\n\u001b[0m\u001b[1;32m    267\u001b[0m \u001b[0;34m\u001b[0m\u001b[0m\n\u001b[1;32m    268\u001b[0m     \u001b[0;32mdef\u001b[0m \u001b[0m_save_header\u001b[0m\u001b[0;34m(\u001b[0m\u001b[0mself\u001b[0m\u001b[0;34m)\u001b[0m \u001b[0;34m->\u001b[0m \u001b[0;32mNone\u001b[0m\u001b[0;34m:\u001b[0m\u001b[0;34m\u001b[0m\u001b[0;34m\u001b[0m\u001b[0m\n",
      "\u001b[0;32m~/opt/anaconda3/lib/python3.9/site-packages/pandas/io/formats/csvs.py\u001b[0m in \u001b[0;36m_save_body\u001b[0;34m(self)\u001b[0m\n\u001b[1;32m    302\u001b[0m             \u001b[0;32mif\u001b[0m \u001b[0mstart_i\u001b[0m \u001b[0;34m>=\u001b[0m \u001b[0mend_i\u001b[0m\u001b[0;34m:\u001b[0m\u001b[0;34m\u001b[0m\u001b[0;34m\u001b[0m\u001b[0m\n\u001b[1;32m    303\u001b[0m                 \u001b[0;32mbreak\u001b[0m\u001b[0;34m\u001b[0m\u001b[0;34m\u001b[0m\u001b[0m\n\u001b[0;32m--> 304\u001b[0;31m             \u001b[0mself\u001b[0m\u001b[0;34m.\u001b[0m\u001b[0m_save_chunk\u001b[0m\u001b[0;34m(\u001b[0m\u001b[0mstart_i\u001b[0m\u001b[0;34m,\u001b[0m \u001b[0mend_i\u001b[0m\u001b[0;34m)\u001b[0m\u001b[0;34m\u001b[0m\u001b[0;34m\u001b[0m\u001b[0m\n\u001b[0m\u001b[1;32m    305\u001b[0m \u001b[0;34m\u001b[0m\u001b[0m\n\u001b[1;32m    306\u001b[0m     \u001b[0;32mdef\u001b[0m \u001b[0m_save_chunk\u001b[0m\u001b[0;34m(\u001b[0m\u001b[0mself\u001b[0m\u001b[0;34m,\u001b[0m \u001b[0mstart_i\u001b[0m\u001b[0;34m:\u001b[0m \u001b[0mint\u001b[0m\u001b[0;34m,\u001b[0m \u001b[0mend_i\u001b[0m\u001b[0;34m:\u001b[0m \u001b[0mint\u001b[0m\u001b[0;34m)\u001b[0m \u001b[0;34m->\u001b[0m \u001b[0;32mNone\u001b[0m\u001b[0;34m:\u001b[0m\u001b[0;34m\u001b[0m\u001b[0;34m\u001b[0m\u001b[0m\n",
      "\u001b[0;32m~/opt/anaconda3/lib/python3.9/site-packages/pandas/io/formats/csvs.py\u001b[0m in \u001b[0;36m_save_chunk\u001b[0;34m(self, start_i, end_i)\u001b[0m\n\u001b[1;32m    313\u001b[0m \u001b[0;34m\u001b[0m\u001b[0m\n\u001b[1;32m    314\u001b[0m         \u001b[0mix\u001b[0m \u001b[0;34m=\u001b[0m \u001b[0mself\u001b[0m\u001b[0;34m.\u001b[0m\u001b[0mdata_index\u001b[0m\u001b[0;34m[\u001b[0m\u001b[0mslicer\u001b[0m\u001b[0;34m]\u001b[0m\u001b[0;34m.\u001b[0m\u001b[0m_format_native_types\u001b[0m\u001b[0;34m(\u001b[0m\u001b[0;34m**\u001b[0m\u001b[0mself\u001b[0m\u001b[0;34m.\u001b[0m\u001b[0m_number_format\u001b[0m\u001b[0;34m)\u001b[0m\u001b[0;34m\u001b[0m\u001b[0;34m\u001b[0m\u001b[0m\n\u001b[0;32m--> 315\u001b[0;31m         libwriters.write_csv_rows(\n\u001b[0m\u001b[1;32m    316\u001b[0m             \u001b[0mdata\u001b[0m\u001b[0;34m,\u001b[0m\u001b[0;34m\u001b[0m\u001b[0;34m\u001b[0m\u001b[0m\n\u001b[1;32m    317\u001b[0m             \u001b[0mix\u001b[0m\u001b[0;34m,\u001b[0m\u001b[0;34m\u001b[0m\u001b[0;34m\u001b[0m\u001b[0m\n",
      "\u001b[0;32m~/opt/anaconda3/lib/python3.9/site-packages/pandas/_libs/writers.pyx\u001b[0m in \u001b[0;36mpandas._libs.writers.write_csv_rows\u001b[0;34m()\u001b[0m\n",
      "\u001b[0;32m~/opt/anaconda3/lib/python3.9/site-packages/shapely/geometry/base.py\u001b[0m in \u001b[0;36m__str__\u001b[0;34m(self)\u001b[0m\n\u001b[1;32m    178\u001b[0m \u001b[0;34m\u001b[0m\u001b[0m\n\u001b[1;32m    179\u001b[0m     \u001b[0;32mdef\u001b[0m \u001b[0m__str__\u001b[0m\u001b[0;34m(\u001b[0m\u001b[0mself\u001b[0m\u001b[0;34m)\u001b[0m\u001b[0;34m:\u001b[0m\u001b[0;34m\u001b[0m\u001b[0;34m\u001b[0m\u001b[0m\n\u001b[0;32m--> 180\u001b[0;31m         \u001b[0;32mreturn\u001b[0m \u001b[0mself\u001b[0m\u001b[0;34m.\u001b[0m\u001b[0mwkt\u001b[0m\u001b[0;34m\u001b[0m\u001b[0;34m\u001b[0m\u001b[0m\n\u001b[0m\u001b[1;32m    181\u001b[0m \u001b[0;34m\u001b[0m\u001b[0m\n\u001b[1;32m    182\u001b[0m     \u001b[0;32mdef\u001b[0m \u001b[0m__reduce__\u001b[0m\u001b[0;34m(\u001b[0m\u001b[0mself\u001b[0m\u001b[0;34m)\u001b[0m\u001b[0;34m:\u001b[0m\u001b[0;34m\u001b[0m\u001b[0;34m\u001b[0m\u001b[0m\n",
      "\u001b[0;32m~/opt/anaconda3/lib/python3.9/site-packages/shapely/geometry/base.py\u001b[0m in \u001b[0;36mwkt\u001b[0;34m(self)\u001b[0m\n\u001b[1;32m    245\u001b[0m         \u001b[0;34m\"\"\"WKT representation of the geometry\"\"\"\u001b[0m\u001b[0;34m\u001b[0m\u001b[0;34m\u001b[0m\u001b[0m\n\u001b[1;32m    246\u001b[0m         \u001b[0;31m# TODO(shapely-2.0) keep default of not trimming?\u001b[0m\u001b[0;34m\u001b[0m\u001b[0;34m\u001b[0m\u001b[0m\n\u001b[0;32m--> 247\u001b[0;31m         \u001b[0;32mreturn\u001b[0m \u001b[0mshapely\u001b[0m\u001b[0;34m.\u001b[0m\u001b[0mto_wkt\u001b[0m\u001b[0;34m(\u001b[0m\u001b[0mself\u001b[0m\u001b[0;34m,\u001b[0m \u001b[0mrounding_precision\u001b[0m\u001b[0;34m=\u001b[0m\u001b[0;34m-\u001b[0m\u001b[0;36m1\u001b[0m\u001b[0;34m)\u001b[0m\u001b[0;34m\u001b[0m\u001b[0;34m\u001b[0m\u001b[0m\n\u001b[0m\u001b[1;32m    248\u001b[0m \u001b[0;34m\u001b[0m\u001b[0m\n\u001b[1;32m    249\u001b[0m     \u001b[0;34m@\u001b[0m\u001b[0mproperty\u001b[0m\u001b[0;34m\u001b[0m\u001b[0;34m\u001b[0m\u001b[0m\n",
      "\u001b[0;32m~/opt/anaconda3/lib/python3.9/site-packages/shapely/io.py\u001b[0m in \u001b[0;36mto_wkt\u001b[0;34m(geometry, rounding_precision, trim, output_dimension, old_3d, **kwargs)\u001b[0m\n\u001b[1;32m    104\u001b[0m         \u001b[0;32mraise\u001b[0m \u001b[0mTypeError\u001b[0m\u001b[0;34m(\u001b[0m\u001b[0;34m\"old_3d only accepts scalar values\"\u001b[0m\u001b[0;34m)\u001b[0m\u001b[0;34m\u001b[0m\u001b[0;34m\u001b[0m\u001b[0m\n\u001b[1;32m    105\u001b[0m \u001b[0;34m\u001b[0m\u001b[0m\n\u001b[0;32m--> 106\u001b[0;31m     return lib.to_wkt(\n\u001b[0m\u001b[1;32m    107\u001b[0m         \u001b[0mgeometry\u001b[0m\u001b[0;34m,\u001b[0m\u001b[0;34m\u001b[0m\u001b[0;34m\u001b[0m\u001b[0m\n\u001b[1;32m    108\u001b[0m         \u001b[0mnp\u001b[0m\u001b[0;34m.\u001b[0m\u001b[0mintc\u001b[0m\u001b[0;34m(\u001b[0m\u001b[0mrounding_precision\u001b[0m\u001b[0;34m)\u001b[0m\u001b[0;34m,\u001b[0m\u001b[0;34m\u001b[0m\u001b[0;34m\u001b[0m\u001b[0m\n",
      "\u001b[0;31mKeyboardInterrupt\u001b[0m: "
     ]
    }
   ],
   "source": [
    "combined_gdf.to_csv(\"census_geo.csv\")"
   ]
  },
  {
   "cell_type": "code",
   "execution_count": 32,
   "id": "b3f49065",
   "metadata": {},
   "outputs": [
    {
     "data": {
      "text/html": [
       "<div>\n",
       "<style scoped>\n",
       "    .dataframe tbody tr th:only-of-type {\n",
       "        vertical-align: middle;\n",
       "    }\n",
       "\n",
       "    .dataframe tbody tr th {\n",
       "        vertical-align: top;\n",
       "    }\n",
       "\n",
       "    .dataframe thead th {\n",
       "        text-align: right;\n",
       "    }\n",
       "</style>\n",
       "<table border=\"1\" class=\"dataframe\">\n",
       "  <thead>\n",
       "    <tr style=\"text-align: right;\">\n",
       "      <th></th>\n",
       "      <th>STATEFP</th>\n",
       "      <th>COUNTYFP</th>\n",
       "      <th>TRACTCE</th>\n",
       "      <th>BLKGRPCE</th>\n",
       "      <th>GEOID</th>\n",
       "      <th>NAMELSAD</th>\n",
       "      <th>MTFCC</th>\n",
       "      <th>FUNCSTAT</th>\n",
       "      <th>ALAND</th>\n",
       "      <th>AWATER</th>\n",
       "      <th>INTPTLAT</th>\n",
       "      <th>INTPTLON</th>\n",
       "      <th>geometry</th>\n",
       "    </tr>\n",
       "  </thead>\n",
       "  <tbody>\n",
       "    <tr>\n",
       "      <th>0</th>\n",
       "      <td>10</td>\n",
       "      <td>003</td>\n",
       "      <td>013505</td>\n",
       "      <td>1</td>\n",
       "      <td>100030135051</td>\n",
       "      <td>Block Group 1</td>\n",
       "      <td>G5030</td>\n",
       "      <td>S</td>\n",
       "      <td>1952532</td>\n",
       "      <td>0</td>\n",
       "      <td>+39.7761890</td>\n",
       "      <td>-075.7266050</td>\n",
       "      <td>POLYGON ((-75.73943 39.77293, -75.73928 39.773...</td>\n",
       "    </tr>\n",
       "    <tr>\n",
       "      <th>1</th>\n",
       "      <td>10</td>\n",
       "      <td>003</td>\n",
       "      <td>013614</td>\n",
       "      <td>2</td>\n",
       "      <td>100030136142</td>\n",
       "      <td>Block Group 2</td>\n",
       "      <td>G5030</td>\n",
       "      <td>S</td>\n",
       "      <td>1228852</td>\n",
       "      <td>0</td>\n",
       "      <td>+39.7147662</td>\n",
       "      <td>-075.6524113</td>\n",
       "      <td>POLYGON ((-75.66302 39.72121, -75.66242 39.721...</td>\n",
       "    </tr>\n",
       "    <tr>\n",
       "      <th>2</th>\n",
       "      <td>10</td>\n",
       "      <td>003</td>\n",
       "      <td>001600</td>\n",
       "      <td>2</td>\n",
       "      <td>100030016002</td>\n",
       "      <td>Block Group 2</td>\n",
       "      <td>G5030</td>\n",
       "      <td>S</td>\n",
       "      <td>96011</td>\n",
       "      <td>0</td>\n",
       "      <td>+39.7448316</td>\n",
       "      <td>-075.5537764</td>\n",
       "      <td>POLYGON ((-75.55638 39.74458, -75.55608 39.745...</td>\n",
       "    </tr>\n",
       "    <tr>\n",
       "      <th>3</th>\n",
       "      <td>10</td>\n",
       "      <td>003</td>\n",
       "      <td>011900</td>\n",
       "      <td>3</td>\n",
       "      <td>100030119003</td>\n",
       "      <td>Block Group 3</td>\n",
       "      <td>G5030</td>\n",
       "      <td>S</td>\n",
       "      <td>6520980</td>\n",
       "      <td>748739</td>\n",
       "      <td>+39.7754473</td>\n",
       "      <td>-075.6272557</td>\n",
       "      <td>POLYGON ((-75.64591 39.79557, -75.64588 39.795...</td>\n",
       "    </tr>\n",
       "    <tr>\n",
       "      <th>4</th>\n",
       "      <td>10</td>\n",
       "      <td>003</td>\n",
       "      <td>016901</td>\n",
       "      <td>1</td>\n",
       "      <td>100030169011</td>\n",
       "      <td>Block Group 1</td>\n",
       "      <td>G5030</td>\n",
       "      <td>S</td>\n",
       "      <td>21323266</td>\n",
       "      <td>0</td>\n",
       "      <td>+39.3388351</td>\n",
       "      <td>-075.6549910</td>\n",
       "      <td>POLYGON ((-75.69185 39.33300, -75.69180 39.333...</td>\n",
       "    </tr>\n",
       "  </tbody>\n",
       "</table>\n",
       "</div>"
      ],
      "text/plain": [
       "  STATEFP COUNTYFP TRACTCE BLKGRPCE         GEOID       NAMELSAD  MTFCC  \\\n",
       "0      10      003  013505        1  100030135051  Block Group 1  G5030   \n",
       "1      10      003  013614        2  100030136142  Block Group 2  G5030   \n",
       "2      10      003  001600        2  100030016002  Block Group 2  G5030   \n",
       "3      10      003  011900        3  100030119003  Block Group 3  G5030   \n",
       "4      10      003  016901        1  100030169011  Block Group 1  G5030   \n",
       "\n",
       "  FUNCSTAT     ALAND  AWATER     INTPTLAT      INTPTLON  \\\n",
       "0        S   1952532       0  +39.7761890  -075.7266050   \n",
       "1        S   1228852       0  +39.7147662  -075.6524113   \n",
       "2        S     96011       0  +39.7448316  -075.5537764   \n",
       "3        S   6520980  748739  +39.7754473  -075.6272557   \n",
       "4        S  21323266       0  +39.3388351  -075.6549910   \n",
       "\n",
       "                                            geometry  \n",
       "0  POLYGON ((-75.73943 39.77293, -75.73928 39.773...  \n",
       "1  POLYGON ((-75.66302 39.72121, -75.66242 39.721...  \n",
       "2  POLYGON ((-75.55638 39.74458, -75.55608 39.745...  \n",
       "3  POLYGON ((-75.64591 39.79557, -75.64588 39.795...  \n",
       "4  POLYGON ((-75.69185 39.33300, -75.69180 39.333...  "
      ]
     },
     "execution_count": 32,
     "metadata": {},
     "output_type": "execute_result"
    }
   ],
   "source": [
    "combined_gdf.head()"
   ]
  },
  {
   "cell_type": "code",
   "execution_count": 38,
   "id": "5d5b6648",
   "metadata": {},
   "outputs": [
    {
     "data": {
      "text/html": [
       "<div>\n",
       "<style scoped>\n",
       "    .dataframe tbody tr th:only-of-type {\n",
       "        vertical-align: middle;\n",
       "    }\n",
       "\n",
       "    .dataframe tbody tr th {\n",
       "        vertical-align: top;\n",
       "    }\n",
       "\n",
       "    .dataframe thead th {\n",
       "        text-align: right;\n",
       "    }\n",
       "</style>\n",
       "<table border=\"1\" class=\"dataframe\">\n",
       "  <thead>\n",
       "    <tr style=\"text-align: right;\">\n",
       "      <th></th>\n",
       "      <th>GEOID</th>\n",
       "      <th>INTPTLAT</th>\n",
       "      <th>INTPTLON</th>\n",
       "      <th>geometry</th>\n",
       "      <th>Health literacy estimate</th>\n",
       "    </tr>\n",
       "  </thead>\n",
       "  <tbody>\n",
       "    <tr>\n",
       "      <th>135069</th>\n",
       "      <td>010010201001</td>\n",
       "      <td>+32.4658320</td>\n",
       "      <td>-086.4896607</td>\n",
       "      <td>POLYGON ((-86.51038 32.47225, -86.51031 32.472...</td>\n",
       "      <td>248.91</td>\n",
       "    </tr>\n",
       "    <tr>\n",
       "      <th>133042</th>\n",
       "      <td>010010201002</td>\n",
       "      <td>+32.4858732</td>\n",
       "      <td>-086.4896724</td>\n",
       "      <td>POLYGON ((-86.50461 32.47723, -86.50453 32.477...</td>\n",
       "      <td>248.66</td>\n",
       "    </tr>\n",
       "    <tr>\n",
       "      <th>133054</th>\n",
       "      <td>010010202001</td>\n",
       "      <td>+32.4800823</td>\n",
       "      <td>-086.4749744</td>\n",
       "      <td>POLYGON ((-86.48127 32.47744, -86.48126 32.477...</td>\n",
       "      <td>233.55</td>\n",
       "    </tr>\n",
       "    <tr>\n",
       "      <th>133055</th>\n",
       "      <td>010010202002</td>\n",
       "      <td>+32.4644350</td>\n",
       "      <td>-086.4697659</td>\n",
       "      <td>POLYGON ((-86.47611 32.46765, -86.47564 32.467...</td>\n",
       "      <td>238.55</td>\n",
       "    </tr>\n",
       "    <tr>\n",
       "      <th>133066</th>\n",
       "      <td>010010203001</td>\n",
       "      <td>+32.4801750</td>\n",
       "      <td>-086.4607925</td>\n",
       "      <td>POLYGON ((-86.47087 32.47573, -86.47084 32.475...</td>\n",
       "      <td>247.96</td>\n",
       "    </tr>\n",
       "  </tbody>\n",
       "</table>\n",
       "</div>"
      ],
      "text/plain": [
       "               GEOID     INTPTLAT      INTPTLON  \\\n",
       "135069  010010201001  +32.4658320  -086.4896607   \n",
       "133042  010010201002  +32.4858732  -086.4896724   \n",
       "133054  010010202001  +32.4800823  -086.4749744   \n",
       "133055  010010202002  +32.4644350  -086.4697659   \n",
       "133066  010010203001  +32.4801750  -086.4607925   \n",
       "\n",
       "                                                 geometry  \\\n",
       "135069  POLYGON ((-86.51038 32.47225, -86.51031 32.472...   \n",
       "133042  POLYGON ((-86.50461 32.47723, -86.50453 32.477...   \n",
       "133054  POLYGON ((-86.48127 32.47744, -86.48126 32.477...   \n",
       "133055  POLYGON ((-86.47611 32.46765, -86.47564 32.467...   \n",
       "133066  POLYGON ((-86.47087 32.47573, -86.47084 32.475...   \n",
       "\n",
       "        Health literacy estimate  \n",
       "135069                    248.91  \n",
       "133042                    248.66  \n",
       "133054                    233.55  \n",
       "133055                    238.55  \n",
       "133066                    247.96  "
      ]
     },
     "execution_count": 38,
     "metadata": {},
     "output_type": "execute_result"
    },
    {
     "name": "stdout",
     "output_type": "stream",
     "text": [
      "Every cell is filled.\n"
     ]
    },
    {
     "data": {
      "text/plain": [
       "<bound method DataFrame.info of                GEOID     INTPTLAT      INTPTLON  \\\n",
       "0       100030135051  +39.7761890  -075.7266050   \n",
       "1       100030136142  +39.7147662  -075.6524113   \n",
       "2       100030016002  +39.7448316  -075.5537764   \n",
       "3       100030119003  +39.7754473  -075.6272557   \n",
       "4       100030169011  +39.3388351  -075.6549910   \n",
       "...              ...          ...           ...   \n",
       "168246  310899741002  +42.3118870  -098.9426873   \n",
       "168247  310899740002  +42.7509045  -099.0159325   \n",
       "168248  310899741003  +42.1684870  -098.6028423   \n",
       "168249  310899741001  +42.3566016  -098.4404172   \n",
       "168250  311090013012  +40.8033453  -096.6387870   \n",
       "\n",
       "                                                 geometry  \\\n",
       "0       POLYGON ((-75.73943 39.77293, -75.73928 39.773...   \n",
       "1       POLYGON ((-75.66302 39.72121, -75.66242 39.721...   \n",
       "2       POLYGON ((-75.55638 39.74458, -75.55608 39.745...   \n",
       "3       POLYGON ((-75.64591 39.79557, -75.64588 39.795...   \n",
       "4       POLYGON ((-75.69185 39.33300, -75.69180 39.333...   \n",
       "...                                                   ...   \n",
       "168246  POLYGON ((-99.24534 42.50851, -99.24533 42.512...   \n",
       "168247  POLYGON ((-99.25704 42.80430, -99.25544 42.805...   \n",
       "168248  POLYGON ((-98.86549 42.13246, -98.86549 42.133...   \n",
       "168249  POLYGON ((-98.65179 42.39975, -98.65179 42.400...   \n",
       "168250  POLYGON ((-96.64414 40.80619, -96.64347 40.807...   \n",
       "\n",
       "        Health literacy estimate  \n",
       "0                         266.13  \n",
       "1                         239.86  \n",
       "2                         216.03  \n",
       "3                         262.67  \n",
       "4                         248.23  \n",
       "...                          ...  \n",
       "168246                    247.49  \n",
       "168247                    249.26  \n",
       "168248                    248.70  \n",
       "168249                    246.44  \n",
       "168250                    259.29  \n",
       "\n",
       "[168251 rows x 5 columns]>"
      ]
     },
     "execution_count": 38,
     "metadata": {},
     "output_type": "execute_result"
    }
   ],
   "source": [
    "merged = pd.merge(combined_gdf, hls, left_on = \"GEOID\", right_on = \"Census block group ID\")\n",
    "merged = merged.drop(columns = [\"STATEFP\", \"COUNTYFP\", \"TRACTCE\", \"BLKGRPCE\", \"NAMELSAD\", \"MTFCC\", \"FUNCSTAT\", \"ALAND\", \"AWATER\", \n",
    "                      \"Census block group ID\"])\n",
    "merged.sort_values(\"GEOID\").head()\n",
    "\n",
    "# Check if every cell is filled\n",
    "is_filled = merged.notnull().values.all()\n",
    "\n",
    "# Display the result\n",
    "if is_filled:\n",
    "    print(\"Every cell is filled.\")\n",
    "else:\n",
    "    print(\"There are missing values in the dataframe.\")\n",
    "    \n",
    "merged.info\n"
   ]
  },
  {
   "cell_type": "code",
   "execution_count": null,
   "id": "5e1613cd",
   "metadata": {},
   "outputs": [],
   "source": [
    "# read in geocodes of CHCs \n",
    "\n",
    "# df = pd.read_csv(\"../data/CHC_data/geocode/geocodes_6140 S Broadway Lorain, OH 44053-3821_200 Denton, TX 76209-4958.csv\")\n",
    "\n",
    "# geocodes_gdf = gpd.GeoDataFrame(df, geometry = gpd.points_from_xy(df.geometry.str.extract(r'POINT \\((.*?)\\)')[0].str.split().str[0].astype(float), df.geometry.str.extract(r'POINT \\((.*?)\\)')[0].str.split().str[1].astype(float)))\n",
    "\n",
    "# geocodes_gdf.head()\n",
    "\n"
   ]
  },
  {
   "cell_type": "code",
   "execution_count": 12,
   "id": "1c470f82",
   "metadata": {},
   "outputs": [
    {
     "name": "stderr",
     "output_type": "stream",
     "text": [
      "/var/folders/4l/ygb5zg1102qg26s9tsr84m0w0000gn/T/ipykernel_79770/1847173398.py:19: FutureWarning: The frame.append method is deprecated and will be removed from pandas in a future version. Use pandas.concat instead.\n",
      "  combined_geocodes = combined_geocodes.append(gdf, ignore_index=True)\n",
      "/var/folders/4l/ygb5zg1102qg26s9tsr84m0w0000gn/T/ipykernel_79770/1847173398.py:19: FutureWarning: The frame.append method is deprecated and will be removed from pandas in a future version. Use pandas.concat instead.\n",
      "  combined_geocodes = combined_geocodes.append(gdf, ignore_index=True)\n",
      "/var/folders/4l/ygb5zg1102qg26s9tsr84m0w0000gn/T/ipykernel_79770/1847173398.py:19: FutureWarning: The frame.append method is deprecated and will be removed from pandas in a future version. Use pandas.concat instead.\n",
      "  combined_geocodes = combined_geocodes.append(gdf, ignore_index=True)\n",
      "/var/folders/4l/ygb5zg1102qg26s9tsr84m0w0000gn/T/ipykernel_79770/1847173398.py:19: FutureWarning: The frame.append method is deprecated and will be removed from pandas in a future version. Use pandas.concat instead.\n",
      "  combined_geocodes = combined_geocodes.append(gdf, ignore_index=True)\n",
      "/var/folders/4l/ygb5zg1102qg26s9tsr84m0w0000gn/T/ipykernel_79770/1847173398.py:19: FutureWarning: The frame.append method is deprecated and will be removed from pandas in a future version. Use pandas.concat instead.\n",
      "  combined_geocodes = combined_geocodes.append(gdf, ignore_index=True)\n",
      "/var/folders/4l/ygb5zg1102qg26s9tsr84m0w0000gn/T/ipykernel_79770/1847173398.py:19: FutureWarning: The frame.append method is deprecated and will be removed from pandas in a future version. Use pandas.concat instead.\n",
      "  combined_geocodes = combined_geocodes.append(gdf, ignore_index=True)\n",
      "/var/folders/4l/ygb5zg1102qg26s9tsr84m0w0000gn/T/ipykernel_79770/1847173398.py:19: FutureWarning: The frame.append method is deprecated and will be removed from pandas in a future version. Use pandas.concat instead.\n",
      "  combined_geocodes = combined_geocodes.append(gdf, ignore_index=True)\n",
      "/var/folders/4l/ygb5zg1102qg26s9tsr84m0w0000gn/T/ipykernel_79770/1847173398.py:19: FutureWarning: The frame.append method is deprecated and will be removed from pandas in a future version. Use pandas.concat instead.\n",
      "  combined_geocodes = combined_geocodes.append(gdf, ignore_index=True)\n",
      "/var/folders/4l/ygb5zg1102qg26s9tsr84m0w0000gn/T/ipykernel_79770/1847173398.py:19: FutureWarning: The frame.append method is deprecated and will be removed from pandas in a future version. Use pandas.concat instead.\n",
      "  combined_geocodes = combined_geocodes.append(gdf, ignore_index=True)\n",
      "/var/folders/4l/ygb5zg1102qg26s9tsr84m0w0000gn/T/ipykernel_79770/1847173398.py:19: FutureWarning: The frame.append method is deprecated and will be removed from pandas in a future version. Use pandas.concat instead.\n",
      "  combined_geocodes = combined_geocodes.append(gdf, ignore_index=True)\n",
      "/var/folders/4l/ygb5zg1102qg26s9tsr84m0w0000gn/T/ipykernel_79770/1847173398.py:19: FutureWarning: The frame.append method is deprecated and will be removed from pandas in a future version. Use pandas.concat instead.\n",
      "  combined_geocodes = combined_geocodes.append(gdf, ignore_index=True)\n",
      "/var/folders/4l/ygb5zg1102qg26s9tsr84m0w0000gn/T/ipykernel_79770/1847173398.py:19: FutureWarning: The frame.append method is deprecated and will be removed from pandas in a future version. Use pandas.concat instead.\n",
      "  combined_geocodes = combined_geocodes.append(gdf, ignore_index=True)\n",
      "/var/folders/4l/ygb5zg1102qg26s9tsr84m0w0000gn/T/ipykernel_79770/1847173398.py:19: FutureWarning: The frame.append method is deprecated and will be removed from pandas in a future version. Use pandas.concat instead.\n",
      "  combined_geocodes = combined_geocodes.append(gdf, ignore_index=True)\n",
      "/var/folders/4l/ygb5zg1102qg26s9tsr84m0w0000gn/T/ipykernel_79770/1847173398.py:19: FutureWarning: The frame.append method is deprecated and will be removed from pandas in a future version. Use pandas.concat instead.\n",
      "  combined_geocodes = combined_geocodes.append(gdf, ignore_index=True)\n",
      "/var/folders/4l/ygb5zg1102qg26s9tsr84m0w0000gn/T/ipykernel_79770/1847173398.py:19: FutureWarning: The frame.append method is deprecated and will be removed from pandas in a future version. Use pandas.concat instead.\n",
      "  combined_geocodes = combined_geocodes.append(gdf, ignore_index=True)\n",
      "/var/folders/4l/ygb5zg1102qg26s9tsr84m0w0000gn/T/ipykernel_79770/1847173398.py:19: FutureWarning: The frame.append method is deprecated and will be removed from pandas in a future version. Use pandas.concat instead.\n",
      "  combined_geocodes = combined_geocodes.append(gdf, ignore_index=True)\n",
      "/var/folders/4l/ygb5zg1102qg26s9tsr84m0w0000gn/T/ipykernel_79770/1847173398.py:19: FutureWarning: The frame.append method is deprecated and will be removed from pandas in a future version. Use pandas.concat instead.\n",
      "  combined_geocodes = combined_geocodes.append(gdf, ignore_index=True)\n",
      "/var/folders/4l/ygb5zg1102qg26s9tsr84m0w0000gn/T/ipykernel_79770/1847173398.py:19: FutureWarning: The frame.append method is deprecated and will be removed from pandas in a future version. Use pandas.concat instead.\n",
      "  combined_geocodes = combined_geocodes.append(gdf, ignore_index=True)\n",
      "/var/folders/4l/ygb5zg1102qg26s9tsr84m0w0000gn/T/ipykernel_79770/1847173398.py:19: FutureWarning: The frame.append method is deprecated and will be removed from pandas in a future version. Use pandas.concat instead.\n",
      "  combined_geocodes = combined_geocodes.append(gdf, ignore_index=True)\n",
      "/var/folders/4l/ygb5zg1102qg26s9tsr84m0w0000gn/T/ipykernel_79770/1847173398.py:19: FutureWarning: The frame.append method is deprecated and will be removed from pandas in a future version. Use pandas.concat instead.\n",
      "  combined_geocodes = combined_geocodes.append(gdf, ignore_index=True)\n",
      "/var/folders/4l/ygb5zg1102qg26s9tsr84m0w0000gn/T/ipykernel_79770/1847173398.py:19: FutureWarning: The frame.append method is deprecated and will be removed from pandas in a future version. Use pandas.concat instead.\n",
      "  combined_geocodes = combined_geocodes.append(gdf, ignore_index=True)\n",
      "/var/folders/4l/ygb5zg1102qg26s9tsr84m0w0000gn/T/ipykernel_79770/1847173398.py:19: FutureWarning: The frame.append method is deprecated and will be removed from pandas in a future version. Use pandas.concat instead.\n",
      "  combined_geocodes = combined_geocodes.append(gdf, ignore_index=True)\n",
      "/var/folders/4l/ygb5zg1102qg26s9tsr84m0w0000gn/T/ipykernel_79770/1847173398.py:19: FutureWarning: The frame.append method is deprecated and will be removed from pandas in a future version. Use pandas.concat instead.\n",
      "  combined_geocodes = combined_geocodes.append(gdf, ignore_index=True)\n",
      "/var/folders/4l/ygb5zg1102qg26s9tsr84m0w0000gn/T/ipykernel_79770/1847173398.py:19: FutureWarning: The frame.append method is deprecated and will be removed from pandas in a future version. Use pandas.concat instead.\n",
      "  combined_geocodes = combined_geocodes.append(gdf, ignore_index=True)\n",
      "/var/folders/4l/ygb5zg1102qg26s9tsr84m0w0000gn/T/ipykernel_79770/1847173398.py:19: FutureWarning: The frame.append method is deprecated and will be removed from pandas in a future version. Use pandas.concat instead.\n",
      "  combined_geocodes = combined_geocodes.append(gdf, ignore_index=True)\n",
      "/var/folders/4l/ygb5zg1102qg26s9tsr84m0w0000gn/T/ipykernel_79770/1847173398.py:19: FutureWarning: The frame.append method is deprecated and will be removed from pandas in a future version. Use pandas.concat instead.\n",
      "  combined_geocodes = combined_geocodes.append(gdf, ignore_index=True)\n",
      "/var/folders/4l/ygb5zg1102qg26s9tsr84m0w0000gn/T/ipykernel_79770/1847173398.py:19: FutureWarning: The frame.append method is deprecated and will be removed from pandas in a future version. Use pandas.concat instead.\n",
      "  combined_geocodes = combined_geocodes.append(gdf, ignore_index=True)\n",
      "/var/folders/4l/ygb5zg1102qg26s9tsr84m0w0000gn/T/ipykernel_79770/1847173398.py:19: FutureWarning: The frame.append method is deprecated and will be removed from pandas in a future version. Use pandas.concat instead.\n",
      "  combined_geocodes = combined_geocodes.append(gdf, ignore_index=True)\n",
      "/var/folders/4l/ygb5zg1102qg26s9tsr84m0w0000gn/T/ipykernel_79770/1847173398.py:19: FutureWarning: The frame.append method is deprecated and will be removed from pandas in a future version. Use pandas.concat instead.\n",
      "  combined_geocodes = combined_geocodes.append(gdf, ignore_index=True)\n",
      "/var/folders/4l/ygb5zg1102qg26s9tsr84m0w0000gn/T/ipykernel_79770/1847173398.py:19: FutureWarning: The frame.append method is deprecated and will be removed from pandas in a future version. Use pandas.concat instead.\n",
      "  combined_geocodes = combined_geocodes.append(gdf, ignore_index=True)\n"
     ]
    }
   ],
   "source": [
    "directory = \"../data/CHC_data/geocode\"  # Replace with the directory containing the .shp files\n",
    "\n",
    "# Initialize an empty GeoDataFrame\n",
    "combined_geocodes = gpd.GeoDataFrame()\n",
    "\n",
    "# Iterate over all files in the directory\n",
    "for file_name in os.listdir(directory):\n",
    "    if file_name.endswith(\".csv\"):\n",
    "        file_path = os.path.join(directory, file_name)\n",
    "\n",
    "        # Read the CSV file into a DataFrame\n",
    "        df = pd.read_csv(file_path)\n",
    "\n",
    "        # Create a GeoDataFrame from the DataFrame with the geometry column\n",
    "        geometry = gpd.points_from_xy(df.geometry.str.extract(r'POINT \\((.*?)\\)')[0].str.split().str[0].astype(float), df.geometry.str.extract(r'POINT \\((.*?)\\)')[0].str.split().str[1].astype(float))\n",
    "        gdf = gpd.GeoDataFrame(df, geometry=geometry)\n",
    "\n",
    "        # Append the GeoDataFrame to the combined GeoDataFrame\n",
    "        combined_geocodes = combined_geocodes.append(gdf, ignore_index=True)"
   ]
  },
  {
   "cell_type": "code",
   "execution_count": 24,
   "id": "2ee01ebd",
   "metadata": {},
   "outputs": [
    {
     "data": {
      "text/plain": [
       "<bound method DataFrame.info of                           geometry  \\\n",
       "0      POINT (-119.20711 36.29522)   \n",
       "1                      POINT EMPTY   \n",
       "2      POINT (-119.86720 36.77181)   \n",
       "3                      POINT EMPTY   \n",
       "4      POINT (-119.73202 36.77951)   \n",
       "...                            ...   \n",
       "13285                  POINT EMPTY   \n",
       "13286   POINT (-73.88734 40.88132)   \n",
       "13287   POINT (-73.90618 40.87754)   \n",
       "13288   POINT (-73.90437 40.86435)   \n",
       "13289   POINT (-73.89657 40.87026)   \n",
       "\n",
       "                                                 address  \n",
       "0      S Farmersville Blvd & Oakland St (NB), South F...  \n",
       "1                                                    NaN  \n",
       "2      West Clinton Avenue, 93705, Fresno, California...  \n",
       "3                                                    NaN  \n",
       "4      East Shields Avenue, 93726, Fresno, California...  \n",
       "...                                                  ...  \n",
       "13285                                                NaN  \n",
       "13286  DeWitt Clinton High School, 100, West Mosholu ...  \n",
       "13287  5525, Broadway, 10463, Broadway, New York, NY,...  \n",
       "13288  105, Father Zeiser Place, 10468, Father Zeiser...  \n",
       "13289  2780, Reservoir Avenue, 10468, Reservoir Avenu...  \n",
       "\n",
       "[13290 rows x 2 columns]>"
      ]
     },
     "execution_count": 24,
     "metadata": {},
     "output_type": "execute_result"
    },
    {
     "name": "stdout",
     "output_type": "stream",
     "text": [
      "Number of NaN rows: 4092\n"
     ]
    }
   ],
   "source": [
    "combined_geocodes.info\n",
    "null = combined_geocodes.isnull().sum(axis = 1)\n",
    "count_nan_rows = len(null[null > 0])\n",
    "\n",
    "print(\"Number of NaN rows:\", count_nan_rows)"
   ]
  },
  {
   "cell_type": "code",
   "execution_count": 36,
   "id": "9784cee8",
   "metadata": {},
   "outputs": [
    {
     "name": "stderr",
     "output_type": "stream",
     "text": [
      "/Users/jessiewang/opt/anaconda3/lib/python3.9/site-packages/geopandas/plotting.py:649: FutureWarning: 'axes' is deprecated, please use 'ax' instead (for consistency with pandas)\n",
      "  warnings.warn(\n"
     ]
    },
    {
     "data": {
      "text/plain": [
       "<AxesSubplot:>"
      ]
     },
     "execution_count": 36,
     "metadata": {},
     "output_type": "execute_result"
    },
    {
     "data": {
      "text/plain": [
       "<AxesSubplot:>"
      ]
     },
     "execution_count": 36,
     "metadata": {},
     "output_type": "execute_result"
    },
    {
     "data": {
      "text/plain": [
       "(-130.0, -65.0)"
      ]
     },
     "execution_count": 36,
     "metadata": {},
     "output_type": "execute_result"
    },
    {
     "data": {
      "text/plain": [
       "(22.0, 50.0)"
      ]
     },
     "execution_count": 36,
     "metadata": {},
     "output_type": "execute_result"
    },
    {
     "data": {
      "image/png": "[encoded data removed]",
      "text/plain": [
       "<Figure size 1000x1000 with 2 Axes>"
      ]
     },
     "metadata": {},
     "output_type": "display_data"
    }
   ],
   "source": [
    "import matplotlib.pyplot as plt\n",
    "import geopandas as gpd\n",
    "\n",
    "# geomerged = gpd.GeoDataFrame(merged)\n",
    "fig, ax = plt.subplots(figsize = (10, 10))\n",
    "ax = merged.plot(axes=ax)\n",
    "merged.plot(ax = ax, column = \"Health literacy estimate\", legend = True)\n",
    "combined_geocodes.plot(ax = ax, color = 'red', markersize = 2)\n",
    "plt.xlim(-130, -65)\n",
    "plt.ylim(22, 50)\n",
    "plt.show()\n",
    "\n",
    "# us_map.plot(ax = ax, color='lightgrey')\n",
    "# al_locations.plot(ax = ax)"
   ]
  },
  {
   "cell_type": "code",
   "execution_count": 37,
   "id": "5dea787b",
   "metadata": {
    "scrolled": true
   },
   "outputs": [
    {
     "data": {
      "text/plain": [
       "<bound method DataFrame.info of                GEOID     INTPTLAT      INTPTLON  \\\n",
       "0       100030135051  +39.7761890  -075.7266050   \n",
       "1       100030136142  +39.7147662  -075.6524113   \n",
       "2       100030016002  +39.7448316  -075.5537764   \n",
       "3       100030119003  +39.7754473  -075.6272557   \n",
       "4       100030169011  +39.3388351  -075.6549910   \n",
       "...              ...          ...           ...   \n",
       "168246  310899741002  +42.3118870  -098.9426873   \n",
       "168247  310899740002  +42.7509045  -099.0159325   \n",
       "168248  310899741003  +42.1684870  -098.6028423   \n",
       "168249  310899741001  +42.3566016  -098.4404172   \n",
       "168250  311090013012  +40.8033453  -096.6387870   \n",
       "\n",
       "                                                 geometry  \\\n",
       "0       POLYGON ((-75.73943 39.77293, -75.73928 39.773...   \n",
       "1       POLYGON ((-75.66302 39.72121, -75.66242 39.721...   \n",
       "2       POLYGON ((-75.55638 39.74458, -75.55608 39.745...   \n",
       "3       POLYGON ((-75.64591 39.79557, -75.64588 39.795...   \n",
       "4       POLYGON ((-75.69185 39.33300, -75.69180 39.333...   \n",
       "...                                                   ...   \n",
       "168246  POLYGON ((-99.24534 42.50851, -99.24533 42.512...   \n",
       "168247  POLYGON ((-99.25704 42.80430, -99.25544 42.805...   \n",
       "168248  POLYGON ((-98.86549 42.13246, -98.86549 42.133...   \n",
       "168249  POLYGON ((-98.65179 42.39975, -98.65179 42.400...   \n",
       "168250  POLYGON ((-96.64414 40.80619, -96.64347 40.807...   \n",
       "\n",
       "        Health literacy estimate  \n",
       "0                         266.13  \n",
       "1                         239.86  \n",
       "2                         216.03  \n",
       "3                         262.67  \n",
       "4                         248.23  \n",
       "...                          ...  \n",
       "168246                    247.49  \n",
       "168247                    249.26  \n",
       "168248                    248.70  \n",
       "168249                    246.44  \n",
       "168250                    259.29  \n",
       "\n",
       "[168251 rows x 5 columns]>"
      ]
     },
     "execution_count": 37,
     "metadata": {},
     "output_type": "execute_result"
    },
    {
     "data": {
      "text/plain": [
       "<bound method DataFrame.info of                           geometry  \\\n",
       "0      POINT (-119.20711 36.29522)   \n",
       "1                      POINT EMPTY   \n",
       "2      POINT (-119.86720 36.77181)   \n",
       "3                      POINT EMPTY   \n",
       "4      POINT (-119.73202 36.77951)   \n",
       "...                            ...   \n",
       "13285                  POINT EMPTY   \n",
       "13286   POINT (-73.88734 40.88132)   \n",
       "13287   POINT (-73.90618 40.87754)   \n",
       "13288   POINT (-73.90437 40.86435)   \n",
       "13289   POINT (-73.89657 40.87026)   \n",
       "\n",
       "                                                 address  \n",
       "0      S Farmersville Blvd & Oakland St (NB), South F...  \n",
       "1                                                    NaN  \n",
       "2      West Clinton Avenue, 93705, Fresno, California...  \n",
       "3                                                    NaN  \n",
       "4      East Shields Avenue, 93726, Fresno, California...  \n",
       "...                                                  ...  \n",
       "13285                                                NaN  \n",
       "13286  DeWitt Clinton High School, 100, West Mosholu ...  \n",
       "13287  5525, Broadway, 10463, Broadway, New York, NY,...  \n",
       "13288  105, Father Zeiser Place, 10468, Father Zeiser...  \n",
       "13289  2780, Reservoir Avenue, 10468, Reservoir Avenu...  \n",
       "\n",
       "[13290 rows x 2 columns]>"
      ]
     },
     "execution_count": 37,
     "metadata": {},
     "output_type": "execute_result"
    }
   ],
   "source": [
    "combined_geocodes = combined_geocodes.set_crs(merged.crs)\n",
    "combined_geocodes = combined_geocodes.to_crs(merged.crs)\n",
    "merged.info\n",
    "combined_geocodes.info"
   ]
  },
  {
   "cell_type": "code",
   "execution_count": 1,
   "id": "3cac585e",
   "metadata": {},
   "outputs": [
    {
     "ename": "NameError",
     "evalue": "name 'merged' is not defined",
     "output_type": "error",
     "traceback": [
      "\u001b[0;31m---------------------------------------------------------------------------\u001b[0m",
      "\u001b[0;31mNameError\u001b[0m                                 Traceback (most recent call last)",
      "\u001b[0;32m/var/folders/4l/ygb5zg1102qg26s9tsr84m0w0000gn/T/ipykernel_79770/1251502516.py\u001b[0m in \u001b[0;36m<module>\u001b[0;34m\u001b[0m\n\u001b[0;32m----> 1\u001b[0;31m \u001b[0mmerged\u001b[0m\u001b[0;34m[\u001b[0m\u001b[0;34m'geometry'\u001b[0m\u001b[0;34m]\u001b[0m \u001b[0;34m=\u001b[0m \u001b[0mmerged\u001b[0m\u001b[0;34m[\u001b[0m\u001b[0;34m'geometry'\u001b[0m\u001b[0;34m]\u001b[0m\u001b[0;34m.\u001b[0m\u001b[0mastype\u001b[0m\u001b[0;34m(\u001b[0m\u001b[0mstr\u001b[0m\u001b[0;34m)\u001b[0m\u001b[0;34m\u001b[0m\u001b[0;34m\u001b[0m\u001b[0m\n\u001b[0m\u001b[1;32m      2\u001b[0m \u001b[0mcombined_geocodes\u001b[0m\u001b[0;34m[\u001b[0m\u001b[0;34m'geometry'\u001b[0m\u001b[0;34m]\u001b[0m \u001b[0;34m=\u001b[0m \u001b[0mcombined_geocodes\u001b[0m\u001b[0;34m[\u001b[0m\u001b[0;34m'geometry'\u001b[0m\u001b[0;34m]\u001b[0m\u001b[0;34m.\u001b[0m\u001b[0mastype\u001b[0m\u001b[0;34m(\u001b[0m\u001b[0mstr\u001b[0m\u001b[0;34m)\u001b[0m\u001b[0;34m\u001b[0m\u001b[0;34m\u001b[0m\u001b[0m\n\u001b[1;32m      3\u001b[0m \u001b[0;34m\u001b[0m\u001b[0m\n\u001b[1;32m      4\u001b[0m \u001b[0;31m# Perform a spatial join to associate each point with its corresponding polygon\u001b[0m\u001b[0;34m\u001b[0m\u001b[0;34m\u001b[0m\u001b[0m\n\u001b[1;32m      5\u001b[0m \u001b[0mjoined_data\u001b[0m \u001b[0;34m=\u001b[0m \u001b[0mgpd\u001b[0m\u001b[0;34m.\u001b[0m\u001b[0msjoin\u001b[0m\u001b[0;34m(\u001b[0m\u001b[0mcombined_geocodes\u001b[0m\u001b[0;34m,\u001b[0m \u001b[0mmerged\u001b[0m\u001b[0;34m,\u001b[0m \u001b[0mhow\u001b[0m\u001b[0;34m=\u001b[0m\u001b[0;34m'left'\u001b[0m\u001b[0;34m,\u001b[0m \u001b[0mop\u001b[0m\u001b[0;34m=\u001b[0m\u001b[0;34m'within'\u001b[0m\u001b[0;34m)\u001b[0m\u001b[0;34m\u001b[0m\u001b[0;34m\u001b[0m\u001b[0m\n",
      "\u001b[0;31mNameError\u001b[0m: name 'merged' is not defined"
     ]
    }
   ],
   "source": [
    "merged['geometry'] = merged['geometry'].astype(str)\n",
    "combined_geocodes['geometry'] = combined_geocodes['geometry'].astype(str)\n",
    "\n",
    "# Perform a spatial join to associate each point with its corresponding polygon\n",
    "joined_data = gpd.sjoin(combined_geocodes, merged, how='left', op='within')\n",
    "\n",
    "# Group the data by the polygon geometry and count the number of points\n",
    "point_counts = joined_data.groupby('geometry').size()\n",
    "\n",
    "# Print the point counts for each polygon\n",
    "print(point_counts)"
   ]
  }
 ],
 "metadata": {
  "kernelspec": {
   "display_name": "Python 3 (ipykernel)",
   "language": "python",
   "name": "python3"
  },
  "language_info": {
   "codemirror_mode": {
    "name": "ipython",
    "version": 3
   },
   "file_extension": ".py",
   "mimetype": "text/x-python",
   "name": "python",
   "nbconvert_exporter": "python",
   "pygments_lexer": "ipython3",
   "version": "3.9.13"
  }
 },
 "nbformat": 4,
 "nbformat_minor": 5
}

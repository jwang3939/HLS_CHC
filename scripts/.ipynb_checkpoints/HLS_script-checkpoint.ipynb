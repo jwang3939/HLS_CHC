{
 "cells": [
  {
   "cell_type": "code",
   "execution_count": 2,
   "id": "058f4868",
   "metadata": {},
   "outputs": [],
   "source": [
    "## load initial packages\n",
    "import pandas as pd\n",
    "import geopandas as gpd\n",
    "import numpy as np\n",
    "import os\n",
    "\n",
    "## repeated printouts\n",
    "from IPython.core.interactiveshell import InteractiveShell\n",
    "InteractiveShell.ast_node_interactivity = \"all\""
   ]
  },
  {
   "cell_type": "code",
   "execution_count": 48,
   "id": "4e4d595e",
   "metadata": {},
   "outputs": [
    {
     "data": {
      "text/html": [
       "<div>\n",
       "<style scoped>\n",
       "    .dataframe tbody tr th:only-of-type {\n",
       "        vertical-align: middle;\n",
       "    }\n",
       "\n",
       "    .dataframe tbody tr th {\n",
       "        vertical-align: top;\n",
       "    }\n",
       "\n",
       "    .dataframe thead th {\n",
       "        text-align: right;\n",
       "    }\n",
       "</style>\n",
       "<table border=\"1\" class=\"dataframe\">\n",
       "  <thead>\n",
       "    <tr style=\"text-align: right;\">\n",
       "      <th></th>\n",
       "      <th>Census block group ID</th>\n",
       "      <th>Health literacy estimate</th>\n",
       "    </tr>\n",
       "  </thead>\n",
       "  <tbody>\n",
       "    <tr>\n",
       "      <th>0</th>\n",
       "      <td>10010201001</td>\n",
       "      <td>248.91</td>\n",
       "    </tr>\n",
       "    <tr>\n",
       "      <th>1</th>\n",
       "      <td>10010201002</td>\n",
       "      <td>248.66</td>\n",
       "    </tr>\n",
       "    <tr>\n",
       "      <th>2</th>\n",
       "      <td>10010202001</td>\n",
       "      <td>233.55</td>\n",
       "    </tr>\n",
       "    <tr>\n",
       "      <th>3</th>\n",
       "      <td>10010202002</td>\n",
       "      <td>238.55</td>\n",
       "    </tr>\n",
       "    <tr>\n",
       "      <th>4</th>\n",
       "      <td>10010203001</td>\n",
       "      <td>247.96</td>\n",
       "    </tr>\n",
       "  </tbody>\n",
       "</table>\n",
       "</div>"
      ],
      "text/plain": [
       "   Census block group ID  Health literacy estimate\n",
       "0            10010201001                    248.91\n",
       "1            10010201002                    248.66\n",
       "2            10010202001                    233.55\n",
       "3            10010202002                    238.55\n",
       "4            10010203001                    247.96"
      ]
     },
     "execution_count": 48,
     "metadata": {},
     "output_type": "execute_result"
    }
   ],
   "source": [
    "## load datasets\n",
    "hls = pd.read_excel(\"../data/HLS_data/national_hl_scores.xlsx\")\n",
    "hls.head()"
   ]
  },
  {
   "cell_type": "code",
   "execution_count": 49,
   "id": "0895c48e",
   "metadata": {},
   "outputs": [
    {
     "data": {
      "text/plain": [
       "<bound method DataFrame.info of        Census block group ID  Health literacy estimate\n",
       "0               010010201001                    248.91\n",
       "1               010010201002                    248.66\n",
       "2               010010202001                    233.55\n",
       "3               010010202002                    238.55\n",
       "4               010010203001                    247.96\n",
       "...                      ...                       ...\n",
       "216859          560459511001                    249.46\n",
       "216860          560459511002                    248.95\n",
       "216861          560459513001                    248.07\n",
       "216862          560459513002                    246.20\n",
       "216863          560459513003                    253.89\n",
       "\n",
       "[216864 rows x 2 columns]>"
      ]
     },
     "execution_count": 49,
     "metadata": {},
     "output_type": "execute_result"
    }
   ],
   "source": [
    "hls['Census block group ID'] = hls['Census block group ID'].astype(str)\n",
    "hls['Census block group ID'] = hls['Census block group ID'].apply(lambda x: x.zfill(12) if len(x) == 11 else x)\n",
    "hls.info"
   ]
  },
  {
   "cell_type": "code",
   "execution_count": 66,
   "id": "9124351a",
   "metadata": {},
   "outputs": [
    {
     "data": {
      "text/plain": [
       "('../data/HLS_datatl_2022_01_bg.zip',\n",
       " <http.client.HTTPMessage at 0x7f8899cfc970>)"
      ]
     },
     "execution_count": 66,
     "metadata": {},
     "output_type": "execute_result"
    },
    {
     "name": "stdout",
     "output_type": "stream",
     "text": [
      "Downloaded: tl_2022_01_bg.zip\n"
     ]
    },
    {
     "data": {
      "text/plain": [
       "('../data/HLS_datatl_2022_02_bg.zip',\n",
       " <http.client.HTTPMessage at 0x7f8899cfc9a0>)"
      ]
     },
     "execution_count": 66,
     "metadata": {},
     "output_type": "execute_result"
    },
    {
     "name": "stdout",
     "output_type": "stream",
     "text": [
      "Downloaded: tl_2022_02_bg.zip\n"
     ]
    },
    {
     "data": {
      "text/plain": [
       "('../data/HLS_datatl_2022_04_bg.zip',\n",
       " <http.client.HTTPMessage at 0x7f8899cfca90>)"
      ]
     },
     "execution_count": 66,
     "metadata": {},
     "output_type": "execute_result"
    },
    {
     "name": "stdout",
     "output_type": "stream",
     "text": [
      "Downloaded: tl_2022_04_bg.zip\n"
     ]
    },
    {
     "data": {
      "text/plain": [
       "('../data/HLS_datatl_2022_05_bg.zip',\n",
       " <http.client.HTTPMessage at 0x7f8899cfc8e0>)"
      ]
     },
     "execution_count": 66,
     "metadata": {},
     "output_type": "execute_result"
    },
    {
     "name": "stdout",
     "output_type": "stream",
     "text": [
      "Downloaded: tl_2022_05_bg.zip\n"
     ]
    },
    {
     "data": {
      "text/plain": [
       "('../data/HLS_datatl_2022_06_bg.zip',\n",
       " <http.client.HTTPMessage at 0x7f8899cfcb20>)"
      ]
     },
     "execution_count": 66,
     "metadata": {},
     "output_type": "execute_result"
    },
    {
     "name": "stdout",
     "output_type": "stream",
     "text": [
      "Downloaded: tl_2022_06_bg.zip\n"
     ]
    },
    {
     "data": {
      "text/plain": [
       "('../data/HLS_datatl_2022_08_bg.zip',\n",
       " <http.client.HTTPMessage at 0x7f8899cfc820>)"
      ]
     },
     "execution_count": 66,
     "metadata": {},
     "output_type": "execute_result"
    },
    {
     "name": "stdout",
     "output_type": "stream",
     "text": [
      "Downloaded: tl_2022_08_bg.zip\n"
     ]
    },
    {
     "data": {
      "text/plain": [
       "('../data/HLS_datatl_2022_09_bg.zip',\n",
       " <http.client.HTTPMessage at 0x7f8899cfc670>)"
      ]
     },
     "execution_count": 66,
     "metadata": {},
     "output_type": "execute_result"
    },
    {
     "name": "stdout",
     "output_type": "stream",
     "text": [
      "Downloaded: tl_2022_09_bg.zip\n"
     ]
    },
    {
     "data": {
      "text/plain": [
       "('../data/HLS_datatl_2022_10_bg.zip',\n",
       " <http.client.HTTPMessage at 0x7f8899cfc9d0>)"
      ]
     },
     "execution_count": 66,
     "metadata": {},
     "output_type": "execute_result"
    },
    {
     "name": "stdout",
     "output_type": "stream",
     "text": [
      "Downloaded: tl_2022_10_bg.zip\n"
     ]
    },
    {
     "data": {
      "text/plain": [
       "('../data/HLS_datatl_2022_11_bg.zip',\n",
       " <http.client.HTTPMessage at 0x7f8899cfc910>)"
      ]
     },
     "execution_count": 66,
     "metadata": {},
     "output_type": "execute_result"
    },
    {
     "name": "stdout",
     "output_type": "stream",
     "text": [
      "Downloaded: tl_2022_11_bg.zip\n"
     ]
    },
    {
     "data": {
      "text/plain": [
       "('../data/HLS_datatl_2022_12_bg.zip',\n",
       " <http.client.HTTPMessage at 0x7f8899cfc970>)"
      ]
     },
     "execution_count": 66,
     "metadata": {},
     "output_type": "execute_result"
    },
    {
     "name": "stdout",
     "output_type": "stream",
     "text": [
      "Downloaded: tl_2022_12_bg.zip\n"
     ]
    },
    {
     "data": {
      "text/plain": [
       "('../data/HLS_datatl_2022_13_bg.zip',\n",
       " <http.client.HTTPMessage at 0x7f8899cfc8e0>)"
      ]
     },
     "execution_count": 66,
     "metadata": {},
     "output_type": "execute_result"
    },
    {
     "name": "stdout",
     "output_type": "stream",
     "text": [
      "Downloaded: tl_2022_13_bg.zip\n"
     ]
    },
    {
     "data": {
      "text/plain": [
       "('../data/HLS_datatl_2022_15_bg.zip',\n",
       " <http.client.HTTPMessage at 0x7f8899cfca30>)"
      ]
     },
     "execution_count": 66,
     "metadata": {},
     "output_type": "execute_result"
    },
    {
     "name": "stdout",
     "output_type": "stream",
     "text": [
      "Downloaded: tl_2022_15_bg.zip\n"
     ]
    },
    {
     "data": {
      "text/plain": [
       "('../data/HLS_datatl_2022_16_bg.zip',\n",
       " <http.client.HTTPMessage at 0x7f8899cfc9a0>)"
      ]
     },
     "execution_count": 66,
     "metadata": {},
     "output_type": "execute_result"
    },
    {
     "name": "stdout",
     "output_type": "stream",
     "text": [
      "Downloaded: tl_2022_16_bg.zip\n"
     ]
    },
    {
     "data": {
      "text/plain": [
       "('../data/HLS_datatl_2022_17_bg.zip',\n",
       " <http.client.HTTPMessage at 0x7f8899cfc8b0>)"
      ]
     },
     "execution_count": 66,
     "metadata": {},
     "output_type": "execute_result"
    },
    {
     "name": "stdout",
     "output_type": "stream",
     "text": [
      "Downloaded: tl_2022_17_bg.zip\n"
     ]
    },
    {
     "data": {
      "text/plain": [
       "('../data/HLS_datatl_2022_18_bg.zip',\n",
       " <http.client.HTTPMessage at 0x7f8899cfca60>)"
      ]
     },
     "execution_count": 66,
     "metadata": {},
     "output_type": "execute_result"
    },
    {
     "name": "stdout",
     "output_type": "stream",
     "text": [
      "Downloaded: tl_2022_18_bg.zip\n"
     ]
    },
    {
     "data": {
      "text/plain": [
       "('../data/HLS_datatl_2022_19_bg.zip',\n",
       " <http.client.HTTPMessage at 0x7f8899cfc670>)"
      ]
     },
     "execution_count": 66,
     "metadata": {},
     "output_type": "execute_result"
    },
    {
     "name": "stdout",
     "output_type": "stream",
     "text": [
      "Downloaded: tl_2022_19_bg.zip\n"
     ]
    },
    {
     "data": {
      "text/plain": [
       "('../data/HLS_datatl_2022_20_bg.zip',\n",
       " <http.client.HTTPMessage at 0x7f8899cfc9d0>)"
      ]
     },
     "execution_count": 66,
     "metadata": {},
     "output_type": "execute_result"
    },
    {
     "name": "stdout",
     "output_type": "stream",
     "text": [
      "Downloaded: tl_2022_20_bg.zip\n"
     ]
    },
    {
     "data": {
      "text/plain": [
       "('../data/HLS_datatl_2022_21_bg.zip',\n",
       " <http.client.HTTPMessage at 0x7f8899cfc910>)"
      ]
     },
     "execution_count": 66,
     "metadata": {},
     "output_type": "execute_result"
    },
    {
     "name": "stdout",
     "output_type": "stream",
     "text": [
      "Downloaded: tl_2022_21_bg.zip\n"
     ]
    },
    {
     "data": {
      "text/plain": [
       "('../data/HLS_datatl_2022_22_bg.zip',\n",
       " <http.client.HTTPMessage at 0x7f8899cfcb20>)"
      ]
     },
     "execution_count": 66,
     "metadata": {},
     "output_type": "execute_result"
    },
    {
     "name": "stdout",
     "output_type": "stream",
     "text": [
      "Downloaded: tl_2022_22_bg.zip\n"
     ]
    },
    {
     "data": {
      "text/plain": [
       "('../data/HLS_datatl_2022_23_bg.zip',\n",
       " <http.client.HTTPMessage at 0x7f8899cfc8e0>)"
      ]
     },
     "execution_count": 66,
     "metadata": {},
     "output_type": "execute_result"
    },
    {
     "name": "stdout",
     "output_type": "stream",
     "text": [
      "Downloaded: tl_2022_23_bg.zip\n"
     ]
    },
    {
     "data": {
      "text/plain": [
       "('../data/HLS_datatl_2022_24_bg.zip',\n",
       " <http.client.HTTPMessage at 0x7f8899cfca30>)"
      ]
     },
     "execution_count": 66,
     "metadata": {},
     "output_type": "execute_result"
    },
    {
     "name": "stdout",
     "output_type": "stream",
     "text": [
      "Downloaded: tl_2022_24_bg.zip\n"
     ]
    },
    {
     "data": {
      "text/plain": [
       "('../data/HLS_datatl_2022_25_bg.zip',\n",
       " <http.client.HTTPMessage at 0x7f8899cfc9a0>)"
      ]
     },
     "execution_count": 66,
     "metadata": {},
     "output_type": "execute_result"
    },
    {
     "name": "stdout",
     "output_type": "stream",
     "text": [
      "Downloaded: tl_2022_25_bg.zip\n"
     ]
    },
    {
     "data": {
      "text/plain": [
       "('../data/HLS_datatl_2022_26_bg.zip',\n",
       " <http.client.HTTPMessage at 0x7f8899cfc8b0>)"
      ]
     },
     "execution_count": 66,
     "metadata": {},
     "output_type": "execute_result"
    },
    {
     "name": "stdout",
     "output_type": "stream",
     "text": [
      "Downloaded: tl_2022_26_bg.zip\n"
     ]
    },
    {
     "data": {
      "text/plain": [
       "('../data/HLS_datatl_2022_27_bg.zip',\n",
       " <http.client.HTTPMessage at 0x7f8899cfca60>)"
      ]
     },
     "execution_count": 66,
     "metadata": {},
     "output_type": "execute_result"
    },
    {
     "name": "stdout",
     "output_type": "stream",
     "text": [
      "Downloaded: tl_2022_27_bg.zip\n"
     ]
    },
    {
     "data": {
      "text/plain": [
       "('../data/HLS_datatl_2022_28_bg.zip',\n",
       " <http.client.HTTPMessage at 0x7f8899cfc670>)"
      ]
     },
     "execution_count": 66,
     "metadata": {},
     "output_type": "execute_result"
    },
    {
     "name": "stdout",
     "output_type": "stream",
     "text": [
      "Downloaded: tl_2022_28_bg.zip\n"
     ]
    },
    {
     "data": {
      "text/plain": [
       "('../data/HLS_datatl_2022_29_bg.zip',\n",
       " <http.client.HTTPMessage at 0x7f8899cfc9d0>)"
      ]
     },
     "execution_count": 66,
     "metadata": {},
     "output_type": "execute_result"
    },
    {
     "name": "stdout",
     "output_type": "stream",
     "text": [
      "Downloaded: tl_2022_29_bg.zip\n"
     ]
    },
    {
     "data": {
      "text/plain": [
       "('../data/HLS_datatl_2022_30_bg.zip',\n",
       " <http.client.HTTPMessage at 0x7f8899cfc910>)"
      ]
     },
     "execution_count": 66,
     "metadata": {},
     "output_type": "execute_result"
    },
    {
     "name": "stdout",
     "output_type": "stream",
     "text": [
      "Downloaded: tl_2022_30_bg.zip\n"
     ]
    },
    {
     "data": {
      "text/plain": [
       "('../data/HLS_datatl_2022_31_bg.zip',\n",
       " <http.client.HTTPMessage at 0x7f8899cfcb20>)"
      ]
     },
     "execution_count": 66,
     "metadata": {},
     "output_type": "execute_result"
    },
    {
     "name": "stdout",
     "output_type": "stream",
     "text": [
      "Downloaded: tl_2022_31_bg.zip\n"
     ]
    },
    {
     "data": {
      "text/plain": [
       "('../data/HLS_datatl_2022_32_bg.zip',\n",
       " <http.client.HTTPMessage at 0x7f8899cfc9a0>)"
      ]
     },
     "execution_count": 66,
     "metadata": {},
     "output_type": "execute_result"
    },
    {
     "name": "stdout",
     "output_type": "stream",
     "text": [
      "Downloaded: tl_2022_32_bg.zip\n"
     ]
    },
    {
     "data": {
      "text/plain": [
       "('../data/HLS_datatl_2022_33_bg.zip',\n",
       " <http.client.HTTPMessage at 0x7f8899cfc8b0>)"
      ]
     },
     "execution_count": 66,
     "metadata": {},
     "output_type": "execute_result"
    },
    {
     "name": "stdout",
     "output_type": "stream",
     "text": [
      "Downloaded: tl_2022_33_bg.zip\n"
     ]
    },
    {
     "data": {
      "text/plain": [
       "('../data/HLS_datatl_2022_34_bg.zip',\n",
       " <http.client.HTTPMessage at 0x7f8899cfc760>)"
      ]
     },
     "execution_count": 66,
     "metadata": {},
     "output_type": "execute_result"
    },
    {
     "name": "stdout",
     "output_type": "stream",
     "text": [
      "Downloaded: tl_2022_34_bg.zip\n"
     ]
    },
    {
     "data": {
      "text/plain": [
       "('../data/HLS_datatl_2022_35_bg.zip',\n",
       " <http.client.HTTPMessage at 0x7f8899cfca30>)"
      ]
     },
     "execution_count": 66,
     "metadata": {},
     "output_type": "execute_result"
    },
    {
     "name": "stdout",
     "output_type": "stream",
     "text": [
      "Downloaded: tl_2022_35_bg.zip\n"
     ]
    },
    {
     "data": {
      "text/plain": [
       "('../data/HLS_datatl_2022_36_bg.zip',\n",
       " <http.client.HTTPMessage at 0x7f8899cfc9d0>)"
      ]
     },
     "execution_count": 66,
     "metadata": {},
     "output_type": "execute_result"
    },
    {
     "name": "stdout",
     "output_type": "stream",
     "text": [
      "Downloaded: tl_2022_36_bg.zip\n"
     ]
    },
    {
     "data": {
      "text/plain": [
       "('../data/HLS_datatl_2022_37_bg.zip',\n",
       " <http.client.HTTPMessage at 0x7f8899cfc910>)"
      ]
     },
     "execution_count": 66,
     "metadata": {},
     "output_type": "execute_result"
    },
    {
     "name": "stdout",
     "output_type": "stream",
     "text": [
      "Downloaded: tl_2022_37_bg.zip\n"
     ]
    },
    {
     "data": {
      "text/plain": [
       "('../data/HLS_datatl_2022_38_bg.zip',\n",
       " <http.client.HTTPMessage at 0x7f8899cfc760>)"
      ]
     },
     "execution_count": 66,
     "metadata": {},
     "output_type": "execute_result"
    },
    {
     "name": "stdout",
     "output_type": "stream",
     "text": [
      "Downloaded: tl_2022_38_bg.zip\n"
     ]
    },
    {
     "data": {
      "text/plain": [
       "('../data/HLS_datatl_2022_39_bg.zip',\n",
       " <http.client.HTTPMessage at 0x7f8899cfc9a0>)"
      ]
     },
     "execution_count": 66,
     "metadata": {},
     "output_type": "execute_result"
    },
    {
     "name": "stdout",
     "output_type": "stream",
     "text": [
      "Downloaded: tl_2022_39_bg.zip\n"
     ]
    },
    {
     "data": {
      "text/plain": [
       "('../data/HLS_datatl_2022_40_bg.zip',\n",
       " <http.client.HTTPMessage at 0x7f8899cfca60>)"
      ]
     },
     "execution_count": 66,
     "metadata": {},
     "output_type": "execute_result"
    },
    {
     "name": "stdout",
     "output_type": "stream",
     "text": [
      "Downloaded: tl_2022_40_bg.zip\n"
     ]
    },
    {
     "data": {
      "text/plain": [
       "('../data/HLS_datatl_2022_41_bg.zip',\n",
       " <http.client.HTTPMessage at 0x7f8899cfcb20>)"
      ]
     },
     "execution_count": 66,
     "metadata": {},
     "output_type": "execute_result"
    },
    {
     "name": "stdout",
     "output_type": "stream",
     "text": [
      "Downloaded: tl_2022_41_bg.zip\n"
     ]
    },
    {
     "data": {
      "text/plain": [
       "('../data/HLS_datatl_2022_42_bg.zip',\n",
       " <http.client.HTTPMessage at 0x7f8899cfc8b0>)"
      ]
     },
     "execution_count": 66,
     "metadata": {},
     "output_type": "execute_result"
    },
    {
     "name": "stdout",
     "output_type": "stream",
     "text": [
      "Downloaded: tl_2022_42_bg.zip\n"
     ]
    },
    {
     "data": {
      "text/plain": [
       "('../data/HLS_datatl_2022_44_bg.zip',\n",
       " <http.client.HTTPMessage at 0x7f8899cfc820>)"
      ]
     },
     "execution_count": 66,
     "metadata": {},
     "output_type": "execute_result"
    },
    {
     "name": "stdout",
     "output_type": "stream",
     "text": [
      "Downloaded: tl_2022_44_bg.zip\n"
     ]
    },
    {
     "data": {
      "text/plain": [
       "('../data/HLS_datatl_2022_45_bg.zip',\n",
       " <http.client.HTTPMessage at 0x7f8899cfca30>)"
      ]
     },
     "execution_count": 66,
     "metadata": {},
     "output_type": "execute_result"
    },
    {
     "name": "stdout",
     "output_type": "stream",
     "text": [
      "Downloaded: tl_2022_45_bg.zip\n"
     ]
    },
    {
     "data": {
      "text/plain": [
       "('../data/HLS_datatl_2022_46_bg.zip',\n",
       " <http.client.HTTPMessage at 0x7f8899cfc9a0>)"
      ]
     },
     "execution_count": 66,
     "metadata": {},
     "output_type": "execute_result"
    },
    {
     "name": "stdout",
     "output_type": "stream",
     "text": [
      "Downloaded: tl_2022_46_bg.zip\n"
     ]
    },
    {
     "data": {
      "text/plain": [
       "('../data/HLS_datatl_2022_47_bg.zip',\n",
       " <http.client.HTTPMessage at 0x7f8899cfc910>)"
      ]
     },
     "execution_count": 66,
     "metadata": {},
     "output_type": "execute_result"
    },
    {
     "name": "stdout",
     "output_type": "stream",
     "text": [
      "Downloaded: tl_2022_47_bg.zip\n"
     ]
    },
    {
     "data": {
      "text/plain": [
       "('../data/HLS_datatl_2022_48_bg.zip',\n",
       " <http.client.HTTPMessage at 0x7f8899cfc760>)"
      ]
     },
     "execution_count": 66,
     "metadata": {},
     "output_type": "execute_result"
    },
    {
     "name": "stdout",
     "output_type": "stream",
     "text": [
      "Downloaded: tl_2022_48_bg.zip\n"
     ]
    },
    {
     "data": {
      "text/plain": [
       "('../data/HLS_datatl_2022_49_bg.zip',\n",
       " <http.client.HTTPMessage at 0x7f8899cfc9d0>)"
      ]
     },
     "execution_count": 66,
     "metadata": {},
     "output_type": "execute_result"
    },
    {
     "name": "stdout",
     "output_type": "stream",
     "text": [
      "Downloaded: tl_2022_49_bg.zip\n"
     ]
    },
    {
     "data": {
      "text/plain": [
       "('../data/HLS_datatl_2022_50_bg.zip',\n",
       " <http.client.HTTPMessage at 0x7f8899cfca60>)"
      ]
     },
     "execution_count": 66,
     "metadata": {},
     "output_type": "execute_result"
    },
    {
     "name": "stdout",
     "output_type": "stream",
     "text": [
      "Downloaded: tl_2022_50_bg.zip\n"
     ]
    },
    {
     "data": {
      "text/plain": [
       "('../data/HLS_datatl_2022_51_bg.zip',\n",
       " <http.client.HTTPMessage at 0x7f8899cfc9a0>)"
      ]
     },
     "execution_count": 66,
     "metadata": {},
     "output_type": "execute_result"
    },
    {
     "name": "stdout",
     "output_type": "stream",
     "text": [
      "Downloaded: tl_2022_51_bg.zip\n"
     ]
    },
    {
     "data": {
      "text/plain": [
       "('../data/HLS_datatl_2022_53_bg.zip',\n",
       " <http.client.HTTPMessage at 0x7f8899cfc8b0>)"
      ]
     },
     "execution_count": 66,
     "metadata": {},
     "output_type": "execute_result"
    },
    {
     "name": "stdout",
     "output_type": "stream",
     "text": [
      "Downloaded: tl_2022_53_bg.zip\n"
     ]
    },
    {
     "data": {
      "text/plain": [
       "('../data/HLS_datatl_2022_54_bg.zip',\n",
       " <http.client.HTTPMessage at 0x7f8899cfca30>)"
      ]
     },
     "execution_count": 66,
     "metadata": {},
     "output_type": "execute_result"
    },
    {
     "name": "stdout",
     "output_type": "stream",
     "text": [
      "Downloaded: tl_2022_54_bg.zip\n"
     ]
    },
    {
     "data": {
      "text/plain": [
       "('../data/HLS_datatl_2022_55_bg.zip',\n",
       " <http.client.HTTPMessage at 0x7f8899cfc820>)"
      ]
     },
     "execution_count": 66,
     "metadata": {},
     "output_type": "execute_result"
    },
    {
     "name": "stdout",
     "output_type": "stream",
     "text": [
      "Downloaded: tl_2022_55_bg.zip\n"
     ]
    },
    {
     "data": {
      "text/plain": [
       "('../data/HLS_datatl_2022_56_bg.zip',\n",
       " <http.client.HTTPMessage at 0x7f8899cfc760>)"
      ]
     },
     "execution_count": 66,
     "metadata": {},
     "output_type": "execute_result"
    },
    {
     "name": "stdout",
     "output_type": "stream",
     "text": [
      "Downloaded: tl_2022_56_bg.zip\n"
     ]
    },
    {
     "data": {
      "text/plain": [
       "('../data/HLS_datatl_2022_60_bg.zip',\n",
       " <http.client.HTTPMessage at 0x7f8899cfcb20>)"
      ]
     },
     "execution_count": 66,
     "metadata": {},
     "output_type": "execute_result"
    },
    {
     "name": "stdout",
     "output_type": "stream",
     "text": [
      "Downloaded: tl_2022_60_bg.zip\n"
     ]
    },
    {
     "data": {
      "text/plain": [
       "('../data/HLS_datatl_2022_66_bg.zip',\n",
       " <http.client.HTTPMessage at 0x7f8899cfc970>)"
      ]
     },
     "execution_count": 66,
     "metadata": {},
     "output_type": "execute_result"
    },
    {
     "name": "stdout",
     "output_type": "stream",
     "text": [
      "Downloaded: tl_2022_66_bg.zip\n"
     ]
    },
    {
     "data": {
      "text/plain": [
       "('../data/HLS_datatl_2022_69_bg.zip',\n",
       " <http.client.HTTPMessage at 0x7f8899cfca60>)"
      ]
     },
     "execution_count": 66,
     "metadata": {},
     "output_type": "execute_result"
    },
    {
     "name": "stdout",
     "output_type": "stream",
     "text": [
      "Downloaded: tl_2022_69_bg.zip\n"
     ]
    },
    {
     "data": {
      "text/plain": [
       "('../data/HLS_datatl_2022_72_bg.zip',\n",
       " <http.client.HTTPMessage at 0x7f8899cfc910>)"
      ]
     },
     "execution_count": 66,
     "metadata": {},
     "output_type": "execute_result"
    },
    {
     "name": "stdout",
     "output_type": "stream",
     "text": [
      "Downloaded: tl_2022_72_bg.zip\n"
     ]
    },
    {
     "data": {
      "text/plain": [
       "('../data/HLS_datatl_2022_78_bg.zip',\n",
       " <http.client.HTTPMessage at 0x7f8899cfcb20>)"
      ]
     },
     "execution_count": 66,
     "metadata": {},
     "output_type": "execute_result"
    },
    {
     "name": "stdout",
     "output_type": "stream",
     "text": [
      "Downloaded: tl_2022_78_bg.zip\n",
      "All files downloaded successfully.\n"
     ]
    }
   ],
   "source": [
    "import urllib.request\n",
    "from bs4 import BeautifulSoup\n",
    "\n",
    "base_url = \"https://www2.census.gov/geo/tiger/TIGER2022/BG/\"\n",
    "\n",
    "# Retrieve the HTML content of the directory page\n",
    "html_content = urllib.request.urlopen(base_url).read()\n",
    "\n",
    "# Parse the HTML content using BeautifulSoup\n",
    "soup = BeautifulSoup(html_content, 'html.parser')\n",
    "\n",
    "# Find all the <a> tags (hyperlinks) in the HTML\n",
    "links = soup.find_all('a')\n",
    "\n",
    "for link in links:\n",
    "    href = link.get('href')\n",
    "    if href is not None and href.endswith(\".zip\"):\n",
    "        file_url = base_url + href\n",
    "        file_name = href.rsplit('/', 1)[-1]\n",
    "        save_path = \"../data/HLS_data\" + file_name\n",
    "\n",
    "        urllib.request.urlretrieve(file_url, save_path)\n",
    "        print(f\"Downloaded: {file_name}\")\n",
    "\n",
    "print(\"All files downloaded successfully.\")"
   ]
  },
  {
   "cell_type": "code",
   "execution_count": 68,
   "id": "e6ec89cc",
   "metadata": {},
   "outputs": [
    {
     "name": "stdout",
     "output_type": "stream",
     "text": [
      "Unzipped: HLS_datatl_2022_10_bg.zip\n",
      "Unzipped: HLS_datatl_2022_02_bg.zip\n",
      "Unzipped: HLS_datatl_2022_34_bg.zip\n",
      "Unzipped: HLS_datatl_2022_49_bg.zip\n",
      "Unzipped: HLS_datatl_2022_38_bg.zip\n",
      "Unzipped: HLS_datatl_2022_45_bg.zip\n",
      "Unzipped: HLS_datatl_2022_26_bg.zip\n",
      "Unzipped: HLS_datatl_2022_12_bg.zip\n",
      "Unzipped: HLS_datatl_2022_24_bg.zip\n",
      "Unzipped: HLS_datatl_2022_47_bg.zip\n",
      "Unzipped: HLS_datatl_2022_36_bg.zip\n",
      "Unzipped: HLS_datatl_2022_28_bg.zip\n",
      "Unzipped: HLS_datatl_2022_55_bg.zip\n",
      "Unzipped: HLS_datatl_2022_32_bg.zip\n",
      "Unzipped: HLS_datatl_2022_51_bg.zip\n",
      "Unzipped: HLS_datatl_2022_20_bg.zip\n",
      "Unzipped: HLS_datatl_2022_16_bg.zip\n",
      "Unzipped: HLS_datatl_2022_08_bg.zip\n",
      "Unzipped: HLS_datatl_2022_04_bg.zip\n",
      "Unzipped: HLS_datatl_2022_41_bg.zip\n",
      "Unzipped: HLS_datatl_2022_22_bg.zip\n",
      "Unzipped: HLS_datatl_2022_53_bg.zip\n",
      "Unzipped: HLS_datatl_2022_30_bg.zip\n",
      "Unzipped: HLS_datatl_2022_18_bg.zip\n",
      "Unzipped: HLS_datatl_2022_06_bg.zip\n",
      "Unzipped: HLS_datatl_2022_69_bg.zip\n",
      "Unzipped: HLS_datatl_2022_48_bg.zip\n",
      "Unzipped: HLS_datatl_2022_35_bg.zip\n",
      "Unzipped: HLS_datatl_2022_56_bg.zip\n",
      "Unzipped: HLS_datatl_2022_27_bg.zip\n",
      "Unzipped: HLS_datatl_2022_44_bg.zip\n",
      "Unzipped: HLS_datatl_2022_39_bg.zip\n",
      "Unzipped: HLS_datatl_2022_11_bg.zip\n",
      "Unzipped: HLS_datatl_2022_72_bg.zip\n",
      "Unzipped: HLS_datatl_2022_60_bg.zip\n",
      "Unzipped: HLS_datatl_2022_46_bg.zip\n",
      "Unzipped: HLS_datatl_2022_25_bg.zip\n",
      "Unzipped: HLS_datatl_2022_54_bg.zip\n",
      "Unzipped: HLS_datatl_2022_29_bg.zip\n",
      "Unzipped: HLS_datatl_2022_37_bg.zip\n",
      "Unzipped: HLS_datatl_2022_01_bg.zip\n",
      "Unzipped: HLS_datatl_2022_13_bg.zip\n",
      "Unzipped: HLS_datatl_2022_09_bg.zip\n",
      "Unzipped: HLS_datatl_2022_17_bg.zip\n",
      "Unzipped: HLS_datatl_2022_66_bg.zip\n",
      "Unzipped: HLS_datatl_2022_05_bg.zip\n",
      "Unzipped: HLS_datatl_2022_78_bg.zip\n",
      "Unzipped: HLS_datatl_2022_50_bg.zip\n",
      "Unzipped: HLS_datatl_2022_33_bg.zip\n",
      "Unzipped: HLS_datatl_2022_42_bg.zip\n",
      "Unzipped: HLS_datatl_2022_21_bg.zip\n",
      "Unzipped: HLS_datatl_2022_19_bg.zip\n",
      "Unzipped: HLS_datatl_2022_15_bg.zip\n",
      "Unzipped: HLS_datatl_2022_23_bg.zip\n",
      "Unzipped: HLS_datatl_2022_40_bg.zip\n",
      "Unzipped: HLS_datatl_2022_31_bg.zip\n",
      "All zip files extracted successfully.\n"
     ]
    }
   ],
   "source": [
    "import os\n",
    "import zipfile\n",
    "\n",
    "directory = \"../data/HLS_data\"  # Replace with the directory containing the zip files\n",
    "\n",
    "# Iterate over all files in the directory\n",
    "for file_name in os.listdir(directory):\n",
    "    if file_name.endswith(\".zip\"):\n",
    "        file_path = os.path.join(directory, file_name)\n",
    "\n",
    "        with zipfile.ZipFile(file_path, 'r') as zip_ref:\n",
    "            zip_ref.extractall(directory)\n",
    "\n",
    "        print(f\"Unzipped: {file_name}\")\n",
    "\n",
    "print(\"All zip files extracted successfully.\")\n"
   ]
  },
  {
   "cell_type": "code",
   "execution_count": 47,
   "id": "be8e38d9",
   "metadata": {},
   "outputs": [
    {
     "name": "stdout",
     "output_type": "stream",
     "text": [
      "Deleted: tl_2022_10_bg.cpg\n",
      "Deleted: tl_2022_09_bg.shp.ea.iso.xml\n",
      "Deleted: tl_2022_47_bg.shp.ea.iso.xml\n",
      "Deleted: tl_2022_21_bg.shp.ea.iso.xml\n",
      "Deleted: tl_2022_56_bg.shp.iso.xml\n",
      "Deleted: tl_2022_34_bg.cpg\n",
      "Deleted: tl_2022_49_bg.cpg\n",
      "Deleted: tl_2022_32_bg.shp.iso.xml\n",
      "Deleted: tl_2022_27_bg.shp.iso.xml\n",
      "Deleted: tl_2022_15_bg.shp.ea.iso.xml\n",
      "Deleted: tl_2022_26_bg.cpg\n",
      "Deleted: tl_2022_38_bg.cpg\n",
      "Deleted: tl_2022_45_bg.cpg\n",
      "Deleted: tl_2022_42_bg.shp.ea.iso.xml\n",
      "Deleted: tl_2022_48_bg.prj\n",
      "Deleted: tl_2022_28_bg.shp.iso.xml\n",
      "Deleted: tl_2022_06_bg.dbf\n",
      "Deleted: tl_2022_35_bg.prj\n",
      "Deleted: HLS_datatl_2022_10_bg.zip\n",
      "Deleted: tl_2022_18_bg.dbf\n",
      "Deleted: tl_2022_10_bg.shx\n",
      "Deleted: tl_2022_56_bg.prj\n",
      "Deleted: tl_2022_27_bg.prj\n",
      "Deleted: tl_2022_69_bg.dbf\n",
      "Deleted: tl_2022_24_bg.shp.ea.iso.xml\n",
      "Deleted: tl_2022_44_bg.prj\n",
      "Deleted: tl_2022_39_bg.prj\n",
      "Deleted: tl_2022_22_bg.dbf\n",
      "Deleted: tl_2022_38_bg.shp.ea.iso.xml\n",
      "Deleted: tl_2022_11_bg.prj\n",
      "Deleted: tl_2022_72_bg.prj\n",
      "Deleted: tl_2022_34_bg.shx\n",
      "Deleted: HLS_datatl_2022_34_bg.zip\n",
      "Deleted: tl_2022_49_bg.shx\n",
      "Deleted: tl_2022_44_bg.shp.iso.xml\n",
      "Deleted: tl_2022_51_bg.shp.iso.xml\n",
      "Deleted: tl_2022_41_bg.dbf\n",
      "Deleted: HLS_datatl_2022_49_bg.zip\n",
      "Deleted: tl_2022_30_bg.dbf\n",
      "Deleted: HLS_datatl_2022_38_bg.zip\n",
      "Deleted: tl_2022_38_bg.shx\n",
      "Deleted: HLS_datatl_2022_45_bg.zip\n",
      "Deleted: tl_2022_45_bg.shx\n",
      "Deleted: tl_2022_26_bg.shx\n",
      "Deleted: tl_2022_60_bg.prj\n",
      "Deleted: tl_2022_10_bg.shp.ea.iso.xml\n",
      "Deleted: HLS_datatl_2022_26_bg.zip\n",
      "Deleted: tl_2022_20_bg.shp.iso.xml\n",
      "Deleted: tl_2022_35_bg.shp.iso.xml\n",
      "Deleted: tl_2022_53_bg.dbf\n",
      "Deleted: tl_2022_46_bg.prj\n",
      "Deleted: tl_2022_50_bg.shp.iso.xml\n",
      "Deleted: tl_2022_45_bg.shp.iso.xml\n",
      "Deleted: tl_2022_08_bg.dbf\n",
      "Deleted: tl_2022_16_bg.dbf\n",
      "Deleted: tl_2022_46_bg.shp.ea.iso.xml\n",
      "Deleted: tl_2022_08_bg.shp.ea.iso.xml\n",
      "Deleted: tl_2022_25_bg.prj\n",
      "Deleted: tl_2022_12_bg.shx\n",
      "Deleted: tl_2022_34_bg.shp.iso.xml\n",
      "Deleted: tl_2022_21_bg.shp.iso.xml\n",
      "Deleted: tl_2022_20_bg.shp.ea.iso.xml\n",
      "Deleted: tl_2022_54_bg.prj\n",
      "Deleted: HLS_datatl_2022_12_bg.zip\n",
      "Deleted: tl_2022_29_bg.prj\n",
      "Deleted: .DS_Store\n",
      "Deleted: tl_2022_04_bg.dbf\n",
      "Deleted: tl_2022_37_bg.prj\n",
      "Deleted: HLS_datatl_2022_24_bg.zip\n",
      "Deleted: tl_2022_24_bg.shx\n",
      "Deleted: tl_2022_51_bg.dbf\n",
      "Deleted: tl_2022_32_bg.dbf\n",
      "Deleted: tl_2022_72_bg.shp.ea.iso.xml\n",
      "Deleted: tl_2022_47_bg.shx\n",
      "Deleted: HLS_datatl_2022_47_bg.zip\n",
      "Deleted: tl_2022_29_bg.shp.iso.xml\n",
      "Deleted: HLS_datatl_2022_36_bg.zip\n",
      "Deleted: tl_2022_36_bg.shx\n",
      "Deleted: tl_2022_28_bg.shx\n",
      "Deleted: HLS_datatl_2022_28_bg.zip\n",
      "Deleted: tl_2022_20_bg.dbf\n",
      "Deleted: tl_2022_13_bg.prj\n",
      "Deleted: tl_2022_55_bg.shx\n",
      "Deleted: HLS_datatl_2022_55_bg.zip\n",
      "Deleted: tl_2022_42_bg.shp.iso.xml\n",
      "Deleted: tl_2022_25_bg.shp.ea.iso.xml\n",
      "Deleted: tl_2022_12_bg.cpg\n",
      "Deleted: tl_2022_26_bg.shp.iso.xml\n",
      "Deleted: tl_2022_33_bg.shp.iso.xml\n",
      "Deleted: tl_2022_39_bg.shp.ea.iso.xml\n",
      "Deleted: tl_2022_47_bg.cpg\n",
      "Deleted: tl_2022_24_bg.cpg\n",
      "Deleted: tl_2022_28_bg.cpg\n",
      "Deleted: tl_2022_55_bg.cpg\n",
      "Deleted: tl_2022_36_bg.cpg\n",
      "Deleted: tl_2022_11_bg.shp.ea.iso.xml\n",
      "Deleted: tl_2022_47_bg.dbf\n",
      "Deleted: tl_2022_09_bg.prj\n",
      "Deleted: tl_2022_24_bg.shp.iso.xml\n",
      "Deleted: tl_2022_31_bg.shp.iso.xml\n",
      "Deleted: HLS_datatl_2022_32_bg.zip\n",
      "Deleted: tl_2022_32_bg.shx\n",
      "Deleted: tl_2022_17_bg.prj\n",
      "Deleted: tl_2022_51_bg.shx\n",
      "Deleted: HLS_datatl_2022_51_bg.zip\n",
      "Deleted: tl_2022_45_bg.shp.ea.iso.xml\n",
      "Deleted: tl_2022_24_bg.dbf\n",
      "Deleted: tl_2022_55_bg.dbf\n",
      "Deleted: tl_2022_40_bg.shp.iso.xml\n",
      "Deleted: tl_2022_55_bg.shp.iso.xml\n",
      "Deleted: HLS_datatl_2022_20_bg.zip\n",
      "Deleted: tl_2022_23_bg.shp.ea.iso.xml\n",
      "Deleted: tl_2022_28_bg.dbf\n",
      "Deleted: tl_2022_20_bg.shx\n",
      "Deleted: tl_2022_66_bg.prj\n",
      "Deleted: tl_2022_05_bg.prj\n",
      "Deleted: tl_2022_78_bg.prj\n",
      "Deleted: tl_2022_36_bg.dbf\n",
      "Deleted: tl_2022_16_bg.shx\n",
      "Deleted: tl_2022_50_bg.prj\n",
      "Deleted: HLS_datatl_2022_16_bg.zip\n",
      "Deleted: tl_2022_33_bg.prj\n",
      "Deleted: tl_2022_48_bg.shp.iso.xml\n",
      "Deleted: HLS_datatl_2022_08_bg.zip\n",
      "Deleted: tl_2022_08_bg.shx\n",
      "Deleted: tl_2022_42_bg.prj\n",
      "Deleted: tl_2022_04_bg.shx\n",
      "Deleted: tl_2022_17_bg.shp.ea.iso.xml\n",
      "Deleted: HLS_datatl_2022_04_bg.zip\n",
      "Deleted: tl_2022_21_bg.prj\n",
      "Deleted: tl_2022_12_bg.dbf\n",
      "Deleted: tl_2022_39_bg.shp.iso.xml\n",
      "Deleted: tl_2022_51_bg.cpg\n",
      "Deleted: tl_2022_40_bg.shp.ea.iso.xml\n",
      "Deleted: tl_2022_32_bg.cpg\n",
      "Deleted: tl_2022_36_bg.shp.iso.xml\n",
      "Deleted: tl_2022_23_bg.shp.iso.xml\n",
      "Deleted: national_hl_scores.xlsx\n",
      "Deleted: tl_2022_47_bg.shp.iso.xml\n",
      "Deleted: tl_2022_20_bg.cpg\n",
      "Deleted: tl_2022_26_bg.shp.ea.iso.xml\n",
      "Deleted: tl_2022_08_bg.cpg\n",
      "Deleted: tl_2022_16_bg.cpg\n",
      "Deleted: tl_2022_12_bg.shp.ea.iso.xml\n",
      "Deleted: tl_2022_04_bg.cpg\n",
      "Deleted: tl_2022_22_bg.cpg\n",
      "Deleted: tl_2022_41_bg.cpg\n",
      "Deleted: tl_2022_44_bg.shp.ea.iso.xml\n",
      "Deleted: tl_2022_22_bg.shp.ea.iso.xml\n",
      "Deleted: tl_2022_30_bg.cpg\n",
      "Deleted: tl_2022_53_bg.cpg\n",
      "Deleted: tl_2022_22_bg.shp.iso.xml\n",
      "Deleted: tl_2022_37_bg.shp.iso.xml\n",
      "Deleted: tl_2022_06_bg.cpg\n",
      "Deleted: tl_2022_18_bg.cpg\n",
      "Deleted: tl_2022_69_bg.cpg\n",
      "Deleted: tl_2022_46_bg.shp.iso.xml\n",
      "Deleted: tl_2022_53_bg.shp.iso.xml\n",
      "Deleted: tl_2022_16_bg.shp.ea.iso.xml\n",
      "Deleted: tl_2022_49_bg.dbf\n",
      "Deleted: HLS_datatl_2022_41_bg.zip\n",
      "Deleted: tl_2022_49_bg.shp.iso.xml\n",
      "Deleted: tl_2022_41_bg.shx\n",
      "Deleted: tl_2022_41_bg.shp.ea.iso.xml\n",
      "Deleted: tl_2022_34_bg.dbf\n",
      "Deleted: tl_2022_19_bg.prj\n",
      "Deleted: tl_2022_22_bg.shx\n",
      "Deleted: HLS_datatl_2022_22_bg.zip\n",
      "Deleted: HLS_datatl_2022_53_bg.zip\n",
      "Deleted: tl_2022_15_bg.prj\n",
      "Deleted: tl_2022_38_bg.shp.iso.xml\n",
      "Deleted: tl_2022_53_bg.shx\n",
      "Deleted: tl_2022_26_bg.dbf\n",
      "Deleted: tl_2022_45_bg.dbf\n",
      "Deleted: tl_2022_27_bg.shp.ea.iso.xml\n",
      "Deleted: tl_2022_30_bg.shx\n",
      "Deleted: tl_2022_38_bg.dbf\n",
      "Deleted: HLS_datatl_2022_30_bg.zip\n",
      "Deleted: tl_2022_69_bg.shp.ea.iso.xml\n",
      "Deleted: tl_2022_23_bg.prj\n",
      "Deleted: tl_2022_18_bg.shx\n",
      "Deleted: HLS_datatl_2022_18_bg.zip\n",
      "Deleted: tl_2022_10_bg.dbf\n",
      "Deleted: HLS_datatl_2022_06_bg.zip\n",
      "Deleted: tl_2022_30_bg.shp.iso.xml\n",
      "Deleted: tl_2022_25_bg.shp.iso.xml\n",
      "Deleted: tl_2022_40_bg.prj\n",
      "Deleted: tl_2022_06_bg.shx\n",
      "Deleted: tl_2022_31_bg.prj\n",
      "Deleted: HLS_datatl_2022_69_bg.zip\n",
      "Deleted: tl_2022_69_bg.shx\n",
      "Deleted: tl_2022_54_bg.shp.iso.xml\n",
      "Deleted: tl_2022_41_bg.shp.iso.xml\n",
      "Deleted: tl_2022_13_bg.shp.ea.iso.xml\n",
      "Deleted: tl_2022_48_bg.shx\n",
      "Deleted: tl_2022_40_bg.dbf\n",
      "Deleted: HLS_datatl_2022_48_bg.zip\n",
      "Deleted: tl_2022_35_bg.shx\n",
      "Deleted: HLS_datatl_2022_35_bg.zip\n",
      "Deleted: HLS_datatl_2022_56_bg.zip\n",
      "Deleted: tl_2022_56_bg.shx\n",
      "Deleted: tl_2022_60_bg.shp.ea.iso.xml\n",
      "Deleted: tl_2022_10_bg.prj\n",
      "Deleted: tl_2022_23_bg.dbf\n",
      "Deleted: tl_2022_48_bg.shp.ea.iso.xml\n",
      "Deleted: tl_2022_06_bg.shp.ea.iso.xml\n",
      "Deleted: tl_2022_27_bg.shx\n",
      "Deleted: HLS_datatl_2022_27_bg.zip\n",
      "Deleted: HLS_datatl_2022_44_bg.zip\n",
      "Deleted: tl_2022_19_bg.shp.iso.xml\n",
      "Deleted: tl_2022_44_bg.shx\n",
      "Deleted: tl_2022_31_bg.dbf\n",
      "Deleted: HLS_datatl_2022_39_bg.zip\n",
      "Deleted: tl_2022_39_bg.shx\n",
      "Deleted: HLS_datatl_2022_11_bg.zip\n",
      "Deleted: tl_2022_19_bg.dbf\n",
      "Deleted: tl_2022_04_bg.shp.iso.xml\n",
      "Deleted: tl_2022_11_bg.shp.iso.xml\n",
      "Deleted: tl_2022_11_bg.shx\n",
      "Deleted: tl_2022_34_bg.prj\n",
      "Deleted: tl_2022_72_bg.shx\n",
      "Deleted: tl_2022_54_bg.shp.ea.iso.xml\n",
      "Deleted: HLS_datatl_2022_72_bg.zip\n",
      "Deleted: tl_2022_49_bg.prj\n",
      "Deleted: tl_2022_32_bg.shp.ea.iso.xml\n",
      "Deleted: tl_2022_38_bg.prj\n",
      "Deleted: tl_2022_60_bg.shp.iso.xml\n",
      "Deleted: tl_2022_45_bg.prj\n",
      "Deleted: tl_2022_60_bg.shx\n",
      "Deleted: tl_2022_26_bg.prj\n",
      "Deleted: HLS_datatl_2022_60_bg.zip\n",
      "Deleted: tl_2022_15_bg.dbf\n",
      "Deleted: tl_2022_56_bg.cpg\n",
      "Deleted: tl_2022_48_bg.cpg\n",
      "Deleted: tl_2022_35_bg.cpg\n",
      "Deleted: tl_2022_44_bg.cpg\n",
      "Deleted: tl_2022_39_bg.cpg\n",
      "Deleted: tl_2022_27_bg.cpg\n",
      "Deleted: tl_2022_51_bg.shp.ea.iso.xml\n",
      "Deleted: tl_2022_72_bg.cpg\n",
      "Deleted: tl_2022_16_bg.shp.iso.xml\n",
      "Deleted: tl_2022_11_bg.cpg\n",
      "Deleted: tl_2022_60_bg.cpg\n",
      "Deleted: tl_2022_72_bg.shp.iso.xml\n",
      "Deleted: tl_2022_37_bg.shp.ea.iso.xml\n",
      "Deleted: tl_2022_25_bg.cpg\n",
      "Deleted: tl_2022_17_bg.shp.iso.xml\n",
      "Deleted: tl_2022_46_bg.cpg\n",
      "Deleted: tl_2022_49_bg.shp.ea.iso.xml\n",
      "Deleted: tl_2022_37_bg.cpg\n",
      "Deleted: tl_2022_66_bg.shp.iso.xml\n",
      "Deleted: tl_2022_54_bg.cpg\n",
      "Deleted: tl_2022_29_bg.cpg\n",
      "Deleted: tl_2022_55_bg.shp.ea.iso.xml\n",
      "Deleted: tl_2022_33_bg.shp.ea.iso.xml\n",
      "Deleted: tl_2022_13_bg.cpg\n",
      "Deleted: tl_2022_46_bg.shx\n",
      "Deleted: HLS_datatl_2022_46_bg.zip\n",
      "Deleted: tl_2022_33_bg.dbf\n",
      "Deleted: fips.txt\n",
      "Deleted: tl_2022_50_bg.dbf\n",
      "Deleted: tl_2022_10_bg.shp.iso.xml\n",
      "Deleted: tl_2022_05_bg.shp.iso.xml\n",
      "Deleted: HLS_datatl_2022_25_bg.zip\n",
      "Deleted: tl_2022_25_bg.shx\n",
      "Deleted: tl_2022_54_bg.shx\n",
      "Deleted: tl_2022_12_bg.prj\n",
      "Deleted: HLS_datatl_2022_54_bg.zip\n",
      "Deleted: tl_2022_29_bg.shx\n",
      "Deleted: HLS_datatl_2022_29_bg.zip\n",
      "Deleted: tl_2022_21_bg.dbf\n",
      "Deleted: tl_2022_42_bg.dbf\n",
      "Deleted: HLS_datatl_2022_37_bg.zip\n",
      "Deleted: tl_2022_37_bg.shx\n",
      "Deleted: tl_2022_50_bg.shp.ea.iso.xml\n",
      "Deleted: tl_2022_24_bg.prj\n",
      "Deleted: tl_2022_17_bg.dbf\n",
      "Deleted: tl_2022_69_bg.shp.iso.xml\n",
      "Deleted: tl_2022_47_bg.prj\n",
      "Deleted: tl_2022_09_bg.dbf\n",
      "Deleted: tl_2022_78_bg.dbf\n",
      "Deleted: tl_2022_36_bg.prj\n",
      "Deleted: tl_2022_05_bg.dbf\n",
      "Deleted: tl_2022_18_bg.shp.iso.xml\n",
      "Deleted: tl_2022_36_bg.shp.ea.iso.xml\n",
      "Deleted: tl_2022_28_bg.prj\n",
      "Deleted: tl_2022_78_bg.shp.ea.iso.xml\n",
      "Deleted: tl_2022_66_bg.dbf\n",
      "Deleted: tl_2022_55_bg.prj\n",
      "Deleted: tl_2022_13_bg.shx\n",
      "Deleted: HLS_datatl_2022_13_bg.zip\n",
      "Deleted: tl_2022_17_bg.cpg\n",
      "Deleted: tl_2022_09_bg.cpg\n",
      "Deleted: tl_2022_05_bg.cpg\n",
      "Deleted: tl_2022_12_bg.shp.iso.xml\n",
      "Deleted: tl_2022_04_bg.shp.ea.iso.xml\n",
      "Deleted: tl_2022_78_bg.cpg\n",
      "Deleted: tl_2022_66_bg.cpg\n",
      "Deleted: tl_2022_33_bg.cpg\n",
      "Deleted: tl_2022_18_bg.shp.ea.iso.xml\n",
      "Deleted: tl_2022_56_bg.shp.ea.iso.xml\n",
      "Deleted: tl_2022_50_bg.cpg\n",
      "Deleted: tl_2022_21_bg.cpg\n",
      "Deleted: tl_2022_30_bg.shp.ea.iso.xml\n",
      "Deleted: tl_2022_42_bg.cpg\n",
      "Deleted: HLS_datatl_2022_09_bg.zip\n",
      "Deleted: tl_2022_09_bg.shx\n",
      "Deleted: tl_2022_29_bg.shp.ea.iso.xml\n",
      "Deleted: tl_2022_32_bg.prj\n",
      "Deleted: tl_2022_51_bg.prj\n",
      "Deleted: tl_2022_17_bg.shx\n",
      "Deleted: HLS_datatl_2022_17_bg.zip\n",
      "Deleted: tl_2022_13_bg.dbf\n",
      "Deleted: HLS_datatl_2022_66_bg.zip\n",
      "Deleted: tl_2022_66_bg.shx\n",
      "Deleted: tl_2022_20_bg.prj\n",
      "Deleted: tl_2022_05_bg.shx\n",
      "Deleted: HLS_datatl_2022_05_bg.zip\n",
      "Deleted: tl_2022_15_bg.shp.iso.xml\n",
      "Deleted: tl_2022_78_bg.shx\n",
      "Deleted: HLS_datatl_2022_78_bg.zip\n",
      "Deleted: tl_2022_25_bg.dbf\n",
      "Deleted: tl_2022_50_bg.shx\n",
      "Deleted: tl_2022_16_bg.prj\n",
      "Deleted: tl_2022_53_bg.shp.ea.iso.xml\n",
      "Deleted: tl_2022_08_bg.shp.iso.xml\n",
      "Deleted: HLS_datatl_2022_50_bg.zip\n",
      "Deleted: HLS_datatl_2022_33_bg.zip\n",
      "Deleted: tl_2022_33_bg.shx\n",
      "Deleted: tl_2022_46_bg.dbf\n",
      "Deleted: tl_2022_08_bg.prj\n",
      "Deleted: tl_2022_37_bg.dbf\n",
      "Deleted: tl_2022_04_bg.prj\n",
      "Deleted: tl_2022_42_bg.shx\n",
      "Deleted: HLS_datatl_2022_42_bg.zip\n",
      "Deleted: HLS_datatl_2022_21_bg.zip\n",
      "Deleted: tl_2022_29_bg.dbf\n",
      "Deleted: tl_2022_21_bg.shx\n",
      "Deleted: tl_2022_35_bg.shp.ea.iso.xml\n",
      "Deleted: tl_2022_54_bg.dbf\n",
      "Deleted: tl_2022_41_bg.prj\n",
      "Deleted: tl_2022_72_bg.dbf\n",
      "Deleted: tl_2022_19_bg.shx\n",
      "Deleted: tl_2022_09_bg.shp.iso.xml\n",
      "Deleted: HLS_datatl_2022_19_bg.zip\n",
      "Deleted: tl_2022_11_bg.dbf\n",
      "Deleted: tl_2022_22_bg.prj\n",
      "Deleted: HLS_datatl_2022_15_bg.zip\n",
      "Deleted: tl_2022_53_bg.prj\n",
      "Deleted: tl_2022_15_bg.shx\n",
      "Deleted: tl_2022_60_bg.dbf\n",
      "Deleted: tl_2022_05_bg.shp.ea.iso.xml\n",
      "Deleted: tl_2022_78_bg.shp.iso.xml\n",
      "Deleted: tl_2022_30_bg.prj\n",
      "Deleted: tl_2022_23_bg.shx\n",
      "Deleted: HLS_datatl_2022_23_bg.zip\n",
      "Deleted: tl_2022_18_bg.prj\n",
      "Deleted: tl_2022_56_bg.dbf\n",
      "Deleted: tl_2022_35_bg.dbf\n",
      "Deleted: tl_2022_48_bg.dbf\n",
      "Deleted: HLS_datatl_2022_40_bg.zip\n",
      "Deleted: tl_2022_06_bg.prj\n",
      "Deleted: tl_2022_19_bg.shp.ea.iso.xml\n",
      "Deleted: tl_2022_40_bg.shx\n",
      "Deleted: tl_2022_31_bg.shx\n",
      "Deleted: tl_2022_39_bg.dbf\n",
      "Deleted: HLS_datatl_2022_31_bg.zip\n",
      "Deleted: tl_2022_31_bg.shp.ea.iso.xml\n",
      "Deleted: tl_2022_44_bg.dbf\n",
      "Deleted: tl_2022_27_bg.dbf\n",
      "Deleted: tl_2022_69_bg.prj\n",
      "Deleted: tl_2022_19_bg.cpg\n",
      "Deleted: tl_2022_66_bg.shp.ea.iso.xml\n",
      "Deleted: tl_2022_28_bg.shp.ea.iso.xml\n",
      "Deleted: tl_2022_15_bg.cpg\n",
      "Deleted: tl_2022_40_bg.cpg\n",
      "Deleted: tl_2022_23_bg.cpg\n",
      "Deleted: tl_2022_06_bg.shp.iso.xml\n",
      "Deleted: tl_2022_13_bg.shp.iso.xml\n",
      "Deleted: tl_2022_31_bg.cpg\n",
      "Deleted: tl_2022_34_bg.shp.ea.iso.xml\n",
      "Cleanup completed.\n"
     ]
    }
   ],
   "source": [
    "# directory = \"../data/HLS_data\"  # Replace with the directory containing the extracted files\n",
    "\n",
    "# # Iterate over all files in the directory\n",
    "# for file_name in os.listdir(directory):\n",
    "#     file_path = os.path.join(directory, file_name)\n",
    "\n",
    "#     if file_name.endswith(\".shp\"):\n",
    "#         # Keep .shp file, do nothing\n",
    "#         pass\n",
    "#     else:\n",
    "#         # Delete the file if it's not a .shp file\n",
    "#         os.remove(file_path)\n",
    "#         print(f\"Deleted: {file_name}\")\n",
    "\n",
    "# print(\"Cleanup completed.\")\n"
   ]
  },
  {
   "cell_type": "code",
   "execution_count": 65,
   "id": "20ee0b2b",
   "metadata": {},
   "outputs": [
    {
     "ename": "AttributeError",
     "evalue": "module 'shapefile' has no attribute 'fix_index'",
     "output_type": "error",
     "traceback": [
      "\u001b[0;31m---------------------------------------------------------------------------\u001b[0m",
      "\u001b[0;31mAttributeError\u001b[0m                            Traceback (most recent call last)",
      "\u001b[0;32m/var/folders/4l/ygb5zg1102qg26s9tsr84m0w0000gn/T/ipykernel_58082/2365130772.py\u001b[0m in \u001b[0;36m<module>\u001b[0;34m\u001b[0m\n\u001b[1;32m     10\u001b[0m \u001b[0;34m\u001b[0m\u001b[0m\n\u001b[1;32m     11\u001b[0m         \u001b[0;31m# Restore the .shx file\u001b[0m\u001b[0;34m\u001b[0m\u001b[0;34m\u001b[0m\u001b[0m\n\u001b[0;32m---> 12\u001b[0;31m         \u001b[0mshapefile\u001b[0m\u001b[0;34m.\u001b[0m\u001b[0mfix_index\u001b[0m\u001b[0;34m(\u001b[0m\u001b[0mshapefile_path\u001b[0m\u001b[0;34m)\u001b[0m\u001b[0;34m\u001b[0m\u001b[0;34m\u001b[0m\u001b[0m\n\u001b[0m\u001b[1;32m     13\u001b[0m \u001b[0;34m\u001b[0m\u001b[0m\n\u001b[1;32m     14\u001b[0m \u001b[0mprint\u001b[0m\u001b[0;34m(\u001b[0m\u001b[0;34m\"All .shx files restored.\"\u001b[0m\u001b[0;34m)\u001b[0m\u001b[0;34m\u001b[0m\u001b[0;34m\u001b[0m\u001b[0m\n",
      "\u001b[0;31mAttributeError\u001b[0m: module 'shapefile' has no attribute 'fix_index'"
     ]
    }
   ],
   "source": [
    "# import os\n",
    "# import shapefile\n",
    "\n",
    "# directory = \"../data/HLS_data\"  # Replace with the directory containing the .shp files\n",
    "\n",
    "# # Iterate over all files in the directory\n",
    "# for file_name in os.listdir(directory):\n",
    "#     if file_name.endswith(\".shp\"):\n",
    "#         shapefile_path = os.path.join(directory, file_name)\n",
    "\n",
    "#         # Restore the .shx file\n",
    "#         shapefile.fix_index(shapefile_path)\n",
    "\n",
    "# print(\"All .shx files restored.\")\n",
    "\n"
   ]
  },
  {
   "cell_type": "code",
   "execution_count": 69,
   "id": "f850d0e7",
   "metadata": {},
   "outputs": [
    {
     "name": "stderr",
     "output_type": "stream",
     "text": [
      "/var/folders/4l/ygb5zg1102qg26s9tsr84m0w0000gn/T/ipykernel_58082/1010026808.py:18: FutureWarning: The frame.append method is deprecated and will be removed from pandas in a future version. Use pandas.concat instead.\n",
      "  combined_gdf = combined_gdf.append(gdf, ignore_index=True)\n",
      "/var/folders/4l/ygb5zg1102qg26s9tsr84m0w0000gn/T/ipykernel_58082/1010026808.py:18: FutureWarning: The frame.append method is deprecated and will be removed from pandas in a future version. Use pandas.concat instead.\n",
      "  combined_gdf = combined_gdf.append(gdf, ignore_index=True)\n",
      "/var/folders/4l/ygb5zg1102qg26s9tsr84m0w0000gn/T/ipykernel_58082/1010026808.py:18: FutureWarning: The frame.append method is deprecated and will be removed from pandas in a future version. Use pandas.concat instead.\n",
      "  combined_gdf = combined_gdf.append(gdf, ignore_index=True)\n",
      "/var/folders/4l/ygb5zg1102qg26s9tsr84m0w0000gn/T/ipykernel_58082/1010026808.py:18: FutureWarning: The frame.append method is deprecated and will be removed from pandas in a future version. Use pandas.concat instead.\n",
      "  combined_gdf = combined_gdf.append(gdf, ignore_index=True)\n",
      "/var/folders/4l/ygb5zg1102qg26s9tsr84m0w0000gn/T/ipykernel_58082/1010026808.py:18: FutureWarning: The frame.append method is deprecated and will be removed from pandas in a future version. Use pandas.concat instead.\n",
      "  combined_gdf = combined_gdf.append(gdf, ignore_index=True)\n",
      "/var/folders/4l/ygb5zg1102qg26s9tsr84m0w0000gn/T/ipykernel_58082/1010026808.py:18: FutureWarning: The frame.append method is deprecated and will be removed from pandas in a future version. Use pandas.concat instead.\n",
      "  combined_gdf = combined_gdf.append(gdf, ignore_index=True)\n",
      "/var/folders/4l/ygb5zg1102qg26s9tsr84m0w0000gn/T/ipykernel_58082/1010026808.py:18: FutureWarning: The frame.append method is deprecated and will be removed from pandas in a future version. Use pandas.concat instead.\n",
      "  combined_gdf = combined_gdf.append(gdf, ignore_index=True)\n",
      "/var/folders/4l/ygb5zg1102qg26s9tsr84m0w0000gn/T/ipykernel_58082/1010026808.py:18: FutureWarning: The frame.append method is deprecated and will be removed from pandas in a future version. Use pandas.concat instead.\n",
      "  combined_gdf = combined_gdf.append(gdf, ignore_index=True)\n",
      "/var/folders/4l/ygb5zg1102qg26s9tsr84m0w0000gn/T/ipykernel_58082/1010026808.py:18: FutureWarning: The frame.append method is deprecated and will be removed from pandas in a future version. Use pandas.concat instead.\n",
      "  combined_gdf = combined_gdf.append(gdf, ignore_index=True)\n",
      "/var/folders/4l/ygb5zg1102qg26s9tsr84m0w0000gn/T/ipykernel_58082/1010026808.py:18: FutureWarning: The frame.append method is deprecated and will be removed from pandas in a future version. Use pandas.concat instead.\n",
      "  combined_gdf = combined_gdf.append(gdf, ignore_index=True)\n",
      "/var/folders/4l/ygb5zg1102qg26s9tsr84m0w0000gn/T/ipykernel_58082/1010026808.py:18: FutureWarning: The frame.append method is deprecated and will be removed from pandas in a future version. Use pandas.concat instead.\n",
      "  combined_gdf = combined_gdf.append(gdf, ignore_index=True)\n",
      "/var/folders/4l/ygb5zg1102qg26s9tsr84m0w0000gn/T/ipykernel_58082/1010026808.py:18: FutureWarning: The frame.append method is deprecated and will be removed from pandas in a future version. Use pandas.concat instead.\n",
      "  combined_gdf = combined_gdf.append(gdf, ignore_index=True)\n",
      "/var/folders/4l/ygb5zg1102qg26s9tsr84m0w0000gn/T/ipykernel_58082/1010026808.py:18: FutureWarning: The frame.append method is deprecated and will be removed from pandas in a future version. Use pandas.concat instead.\n",
      "  combined_gdf = combined_gdf.append(gdf, ignore_index=True)\n",
      "/var/folders/4l/ygb5zg1102qg26s9tsr84m0w0000gn/T/ipykernel_58082/1010026808.py:18: FutureWarning: The frame.append method is deprecated and will be removed from pandas in a future version. Use pandas.concat instead.\n",
      "  combined_gdf = combined_gdf.append(gdf, ignore_index=True)\n",
      "/var/folders/4l/ygb5zg1102qg26s9tsr84m0w0000gn/T/ipykernel_58082/1010026808.py:18: FutureWarning: The frame.append method is deprecated and will be removed from pandas in a future version. Use pandas.concat instead.\n",
      "  combined_gdf = combined_gdf.append(gdf, ignore_index=True)\n",
      "/var/folders/4l/ygb5zg1102qg26s9tsr84m0w0000gn/T/ipykernel_58082/1010026808.py:18: FutureWarning: The frame.append method is deprecated and will be removed from pandas in a future version. Use pandas.concat instead.\n",
      "  combined_gdf = combined_gdf.append(gdf, ignore_index=True)\n",
      "/var/folders/4l/ygb5zg1102qg26s9tsr84m0w0000gn/T/ipykernel_58082/1010026808.py:18: FutureWarning: The frame.append method is deprecated and will be removed from pandas in a future version. Use pandas.concat instead.\n",
      "  combined_gdf = combined_gdf.append(gdf, ignore_index=True)\n",
      "/var/folders/4l/ygb5zg1102qg26s9tsr84m0w0000gn/T/ipykernel_58082/1010026808.py:18: FutureWarning: The frame.append method is deprecated and will be removed from pandas in a future version. Use pandas.concat instead.\n",
      "  combined_gdf = combined_gdf.append(gdf, ignore_index=True)\n",
      "/var/folders/4l/ygb5zg1102qg26s9tsr84m0w0000gn/T/ipykernel_58082/1010026808.py:18: FutureWarning: The frame.append method is deprecated and will be removed from pandas in a future version. Use pandas.concat instead.\n",
      "  combined_gdf = combined_gdf.append(gdf, ignore_index=True)\n",
      "/var/folders/4l/ygb5zg1102qg26s9tsr84m0w0000gn/T/ipykernel_58082/1010026808.py:18: FutureWarning: The frame.append method is deprecated and will be removed from pandas in a future version. Use pandas.concat instead.\n",
      "  combined_gdf = combined_gdf.append(gdf, ignore_index=True)\n",
      "/var/folders/4l/ygb5zg1102qg26s9tsr84m0w0000gn/T/ipykernel_58082/1010026808.py:18: FutureWarning: The frame.append method is deprecated and will be removed from pandas in a future version. Use pandas.concat instead.\n",
      "  combined_gdf = combined_gdf.append(gdf, ignore_index=True)\n",
      "/var/folders/4l/ygb5zg1102qg26s9tsr84m0w0000gn/T/ipykernel_58082/1010026808.py:18: FutureWarning: The frame.append method is deprecated and will be removed from pandas in a future version. Use pandas.concat instead.\n",
      "  combined_gdf = combined_gdf.append(gdf, ignore_index=True)\n",
      "/var/folders/4l/ygb5zg1102qg26s9tsr84m0w0000gn/T/ipykernel_58082/1010026808.py:18: FutureWarning: The frame.append method is deprecated and will be removed from pandas in a future version. Use pandas.concat instead.\n",
      "  combined_gdf = combined_gdf.append(gdf, ignore_index=True)\n",
      "/var/folders/4l/ygb5zg1102qg26s9tsr84m0w0000gn/T/ipykernel_58082/1010026808.py:18: FutureWarning: The frame.append method is deprecated and will be removed from pandas in a future version. Use pandas.concat instead.\n",
      "  combined_gdf = combined_gdf.append(gdf, ignore_index=True)\n",
      "/var/folders/4l/ygb5zg1102qg26s9tsr84m0w0000gn/T/ipykernel_58082/1010026808.py:18: FutureWarning: The frame.append method is deprecated and will be removed from pandas in a future version. Use pandas.concat instead.\n",
      "  combined_gdf = combined_gdf.append(gdf, ignore_index=True)\n",
      "/var/folders/4l/ygb5zg1102qg26s9tsr84m0w0000gn/T/ipykernel_58082/1010026808.py:18: FutureWarning: The frame.append method is deprecated and will be removed from pandas in a future version. Use pandas.concat instead.\n",
      "  combined_gdf = combined_gdf.append(gdf, ignore_index=True)\n",
      "/var/folders/4l/ygb5zg1102qg26s9tsr84m0w0000gn/T/ipykernel_58082/1010026808.py:18: FutureWarning: The frame.append method is deprecated and will be removed from pandas in a future version. Use pandas.concat instead.\n",
      "  combined_gdf = combined_gdf.append(gdf, ignore_index=True)\n",
      "/var/folders/4l/ygb5zg1102qg26s9tsr84m0w0000gn/T/ipykernel_58082/1010026808.py:18: FutureWarning: The frame.append method is deprecated and will be removed from pandas in a future version. Use pandas.concat instead.\n",
      "  combined_gdf = combined_gdf.append(gdf, ignore_index=True)\n",
      "/var/folders/4l/ygb5zg1102qg26s9tsr84m0w0000gn/T/ipykernel_58082/1010026808.py:18: FutureWarning: The frame.append method is deprecated and will be removed from pandas in a future version. Use pandas.concat instead.\n",
      "  combined_gdf = combined_gdf.append(gdf, ignore_index=True)\n",
      "/var/folders/4l/ygb5zg1102qg26s9tsr84m0w0000gn/T/ipykernel_58082/1010026808.py:18: FutureWarning: The frame.append method is deprecated and will be removed from pandas in a future version. Use pandas.concat instead.\n",
      "  combined_gdf = combined_gdf.append(gdf, ignore_index=True)\n"
     ]
    },
    {
     "name": "stderr",
     "output_type": "stream",
     "text": [
      "/var/folders/4l/ygb5zg1102qg26s9tsr84m0w0000gn/T/ipykernel_58082/1010026808.py:18: FutureWarning: The frame.append method is deprecated and will be removed from pandas in a future version. Use pandas.concat instead.\n",
      "  combined_gdf = combined_gdf.append(gdf, ignore_index=True)\n",
      "/var/folders/4l/ygb5zg1102qg26s9tsr84m0w0000gn/T/ipykernel_58082/1010026808.py:18: FutureWarning: The frame.append method is deprecated and will be removed from pandas in a future version. Use pandas.concat instead.\n",
      "  combined_gdf = combined_gdf.append(gdf, ignore_index=True)\n",
      "/var/folders/4l/ygb5zg1102qg26s9tsr84m0w0000gn/T/ipykernel_58082/1010026808.py:18: FutureWarning: The frame.append method is deprecated and will be removed from pandas in a future version. Use pandas.concat instead.\n",
      "  combined_gdf = combined_gdf.append(gdf, ignore_index=True)\n",
      "/var/folders/4l/ygb5zg1102qg26s9tsr84m0w0000gn/T/ipykernel_58082/1010026808.py:18: FutureWarning: The frame.append method is deprecated and will be removed from pandas in a future version. Use pandas.concat instead.\n",
      "  combined_gdf = combined_gdf.append(gdf, ignore_index=True)\n",
      "/var/folders/4l/ygb5zg1102qg26s9tsr84m0w0000gn/T/ipykernel_58082/1010026808.py:18: FutureWarning: The frame.append method is deprecated and will be removed from pandas in a future version. Use pandas.concat instead.\n",
      "  combined_gdf = combined_gdf.append(gdf, ignore_index=True)\n",
      "/var/folders/4l/ygb5zg1102qg26s9tsr84m0w0000gn/T/ipykernel_58082/1010026808.py:18: FutureWarning: The frame.append method is deprecated and will be removed from pandas in a future version. Use pandas.concat instead.\n",
      "  combined_gdf = combined_gdf.append(gdf, ignore_index=True)\n",
      "/var/folders/4l/ygb5zg1102qg26s9tsr84m0w0000gn/T/ipykernel_58082/1010026808.py:18: FutureWarning: The frame.append method is deprecated and will be removed from pandas in a future version. Use pandas.concat instead.\n",
      "  combined_gdf = combined_gdf.append(gdf, ignore_index=True)\n",
      "/var/folders/4l/ygb5zg1102qg26s9tsr84m0w0000gn/T/ipykernel_58082/1010026808.py:18: FutureWarning: The frame.append method is deprecated and will be removed from pandas in a future version. Use pandas.concat instead.\n",
      "  combined_gdf = combined_gdf.append(gdf, ignore_index=True)\n",
      "/var/folders/4l/ygb5zg1102qg26s9tsr84m0w0000gn/T/ipykernel_58082/1010026808.py:18: FutureWarning: The frame.append method is deprecated and will be removed from pandas in a future version. Use pandas.concat instead.\n",
      "  combined_gdf = combined_gdf.append(gdf, ignore_index=True)\n",
      "/var/folders/4l/ygb5zg1102qg26s9tsr84m0w0000gn/T/ipykernel_58082/1010026808.py:18: FutureWarning: The frame.append method is deprecated and will be removed from pandas in a future version. Use pandas.concat instead.\n",
      "  combined_gdf = combined_gdf.append(gdf, ignore_index=True)\n",
      "/var/folders/4l/ygb5zg1102qg26s9tsr84m0w0000gn/T/ipykernel_58082/1010026808.py:18: FutureWarning: The frame.append method is deprecated and will be removed from pandas in a future version. Use pandas.concat instead.\n",
      "  combined_gdf = combined_gdf.append(gdf, ignore_index=True)\n",
      "/var/folders/4l/ygb5zg1102qg26s9tsr84m0w0000gn/T/ipykernel_58082/1010026808.py:18: FutureWarning: The frame.append method is deprecated and will be removed from pandas in a future version. Use pandas.concat instead.\n",
      "  combined_gdf = combined_gdf.append(gdf, ignore_index=True)\n",
      "/var/folders/4l/ygb5zg1102qg26s9tsr84m0w0000gn/T/ipykernel_58082/1010026808.py:18: FutureWarning: The frame.append method is deprecated and will be removed from pandas in a future version. Use pandas.concat instead.\n",
      "  combined_gdf = combined_gdf.append(gdf, ignore_index=True)\n",
      "/var/folders/4l/ygb5zg1102qg26s9tsr84m0w0000gn/T/ipykernel_58082/1010026808.py:18: FutureWarning: The frame.append method is deprecated and will be removed from pandas in a future version. Use pandas.concat instead.\n",
      "  combined_gdf = combined_gdf.append(gdf, ignore_index=True)\n",
      "/var/folders/4l/ygb5zg1102qg26s9tsr84m0w0000gn/T/ipykernel_58082/1010026808.py:18: FutureWarning: The frame.append method is deprecated and will be removed from pandas in a future version. Use pandas.concat instead.\n",
      "  combined_gdf = combined_gdf.append(gdf, ignore_index=True)\n",
      "/var/folders/4l/ygb5zg1102qg26s9tsr84m0w0000gn/T/ipykernel_58082/1010026808.py:18: FutureWarning: The frame.append method is deprecated and will be removed from pandas in a future version. Use pandas.concat instead.\n",
      "  combined_gdf = combined_gdf.append(gdf, ignore_index=True)\n",
      "/var/folders/4l/ygb5zg1102qg26s9tsr84m0w0000gn/T/ipykernel_58082/1010026808.py:18: FutureWarning: The frame.append method is deprecated and will be removed from pandas in a future version. Use pandas.concat instead.\n",
      "  combined_gdf = combined_gdf.append(gdf, ignore_index=True)\n",
      "/var/folders/4l/ygb5zg1102qg26s9tsr84m0w0000gn/T/ipykernel_58082/1010026808.py:18: FutureWarning: The frame.append method is deprecated and will be removed from pandas in a future version. Use pandas.concat instead.\n",
      "  combined_gdf = combined_gdf.append(gdf, ignore_index=True)\n",
      "/var/folders/4l/ygb5zg1102qg26s9tsr84m0w0000gn/T/ipykernel_58082/1010026808.py:18: FutureWarning: The frame.append method is deprecated and will be removed from pandas in a future version. Use pandas.concat instead.\n",
      "  combined_gdf = combined_gdf.append(gdf, ignore_index=True)\n",
      "/var/folders/4l/ygb5zg1102qg26s9tsr84m0w0000gn/T/ipykernel_58082/1010026808.py:18: FutureWarning: The frame.append method is deprecated and will be removed from pandas in a future version. Use pandas.concat instead.\n",
      "  combined_gdf = combined_gdf.append(gdf, ignore_index=True)\n",
      "/var/folders/4l/ygb5zg1102qg26s9tsr84m0w0000gn/T/ipykernel_58082/1010026808.py:18: FutureWarning: The frame.append method is deprecated and will be removed from pandas in a future version. Use pandas.concat instead.\n",
      "  combined_gdf = combined_gdf.append(gdf, ignore_index=True)\n",
      "/var/folders/4l/ygb5zg1102qg26s9tsr84m0w0000gn/T/ipykernel_58082/1010026808.py:18: FutureWarning: The frame.append method is deprecated and will be removed from pandas in a future version. Use pandas.concat instead.\n",
      "  combined_gdf = combined_gdf.append(gdf, ignore_index=True)\n",
      "/var/folders/4l/ygb5zg1102qg26s9tsr84m0w0000gn/T/ipykernel_58082/1010026808.py:18: FutureWarning: The frame.append method is deprecated and will be removed from pandas in a future version. Use pandas.concat instead.\n",
      "  combined_gdf = combined_gdf.append(gdf, ignore_index=True)\n",
      "/var/folders/4l/ygb5zg1102qg26s9tsr84m0w0000gn/T/ipykernel_58082/1010026808.py:18: FutureWarning: The frame.append method is deprecated and will be removed from pandas in a future version. Use pandas.concat instead.\n",
      "  combined_gdf = combined_gdf.append(gdf, ignore_index=True)\n",
      "/var/folders/4l/ygb5zg1102qg26s9tsr84m0w0000gn/T/ipykernel_58082/1010026808.py:18: FutureWarning: The frame.append method is deprecated and will be removed from pandas in a future version. Use pandas.concat instead.\n",
      "  combined_gdf = combined_gdf.append(gdf, ignore_index=True)\n"
     ]
    },
    {
     "name": "stdout",
     "output_type": "stream",
     "text": [
      "All .shp files read and combined into one GeoDataFrame.\n"
     ]
    },
    {
     "name": "stderr",
     "output_type": "stream",
     "text": [
      "/var/folders/4l/ygb5zg1102qg26s9tsr84m0w0000gn/T/ipykernel_58082/1010026808.py:18: FutureWarning: The frame.append method is deprecated and will be removed from pandas in a future version. Use pandas.concat instead.\n",
      "  combined_gdf = combined_gdf.append(gdf, ignore_index=True)\n"
     ]
    }
   ],
   "source": [
    "# us_map1 = gpd.read_file(\"../tl_2022_01_bg/tl_2022_01_bg.shp\")\n",
    "# us_map1.head()\n",
    "\n",
    "directory = \"../data/HLS_data\"  # Replace with the directory containing the .shp files\n",
    "\n",
    "# Initialize an empty GeoDataFrame\n",
    "combined_gdf = gpd.GeoDataFrame()\n",
    "\n",
    "# Iterate over all files in the directory\n",
    "for file_name in os.listdir(directory):\n",
    "    if file_name.endswith(\".shp\"):\n",
    "        file_path = os.path.join(directory, file_name)\n",
    "\n",
    "        # Read the .shp file as a GeoDataFrame\n",
    "        gdf = gpd.read_file(file_path)\n",
    "\n",
    "        # Append the GeoDataFrame to the combined GeoDataFrame\n",
    "        combined_gdf = combined_gdf.append(gdf, ignore_index=True)\n",
    "\n",
    "print(\"All .shp files read and combined into one GeoDataFrame.\")"
   ]
  },
  {
   "cell_type": "code",
   "execution_count": 77,
   "id": "5d5b6648",
   "metadata": {},
   "outputs": [
    {
     "data": {
      "text/html": [
       "<div>\n",
       "<style scoped>\n",
       "    .dataframe tbody tr th:only-of-type {\n",
       "        vertical-align: middle;\n",
       "    }\n",
       "\n",
       "    .dataframe tbody tr th {\n",
       "        vertical-align: top;\n",
       "    }\n",
       "\n",
       "    .dataframe thead th {\n",
       "        text-align: right;\n",
       "    }\n",
       "</style>\n",
       "<table border=\"1\" class=\"dataframe\">\n",
       "  <thead>\n",
       "    <tr style=\"text-align: right;\">\n",
       "      <th></th>\n",
       "      <th>STATEFP</th>\n",
       "      <th>COUNTYFP</th>\n",
       "      <th>TRACTCE</th>\n",
       "      <th>BLKGRPCE</th>\n",
       "      <th>GEOID</th>\n",
       "      <th>NAMELSAD</th>\n",
       "      <th>MTFCC</th>\n",
       "      <th>FUNCSTAT</th>\n",
       "      <th>ALAND</th>\n",
       "      <th>AWATER</th>\n",
       "      <th>INTPTLAT</th>\n",
       "      <th>INTPTLON</th>\n",
       "      <th>geometry</th>\n",
       "      <th>Census block group ID</th>\n",
       "      <th>Health literacy estimate</th>\n",
       "    </tr>\n",
       "  </thead>\n",
       "  <tbody>\n",
       "    <tr>\n",
       "      <th>135069</th>\n",
       "      <td>01</td>\n",
       "      <td>001</td>\n",
       "      <td>020100</td>\n",
       "      <td>1</td>\n",
       "      <td>010010201001</td>\n",
       "      <td>Block Group 1</td>\n",
       "      <td>G5030</td>\n",
       "      <td>S</td>\n",
       "      <td>4264299</td>\n",
       "      <td>28435</td>\n",
       "      <td>+32.4658320</td>\n",
       "      <td>-086.4896607</td>\n",
       "      <td>POLYGON ((-86.51038 32.47225, -86.51031 32.472...</td>\n",
       "      <td>010010201001</td>\n",
       "      <td>248.91</td>\n",
       "    </tr>\n",
       "    <tr>\n",
       "      <th>133042</th>\n",
       "      <td>01</td>\n",
       "      <td>001</td>\n",
       "      <td>020100</td>\n",
       "      <td>2</td>\n",
       "      <td>010010201002</td>\n",
       "      <td>Block Group 2</td>\n",
       "      <td>G5030</td>\n",
       "      <td>S</td>\n",
       "      <td>5561004</td>\n",
       "      <td>0</td>\n",
       "      <td>+32.4858732</td>\n",
       "      <td>-086.4896724</td>\n",
       "      <td>POLYGON ((-86.50461 32.47723, -86.50453 32.477...</td>\n",
       "      <td>010010201002</td>\n",
       "      <td>248.66</td>\n",
       "    </tr>\n",
       "    <tr>\n",
       "      <th>133054</th>\n",
       "      <td>01</td>\n",
       "      <td>001</td>\n",
       "      <td>020200</td>\n",
       "      <td>1</td>\n",
       "      <td>010010202001</td>\n",
       "      <td>Block Group 1</td>\n",
       "      <td>G5030</td>\n",
       "      <td>S</td>\n",
       "      <td>2058374</td>\n",
       "      <td>0</td>\n",
       "      <td>+32.4800823</td>\n",
       "      <td>-086.4749744</td>\n",
       "      <td>POLYGON ((-86.48127 32.47744, -86.48126 32.477...</td>\n",
       "      <td>010010202001</td>\n",
       "      <td>233.55</td>\n",
       "    </tr>\n",
       "    <tr>\n",
       "      <th>133055</th>\n",
       "      <td>01</td>\n",
       "      <td>001</td>\n",
       "      <td>020200</td>\n",
       "      <td>2</td>\n",
       "      <td>010010202002</td>\n",
       "      <td>Block Group 2</td>\n",
       "      <td>G5030</td>\n",
       "      <td>S</td>\n",
       "      <td>1262444</td>\n",
       "      <td>5669</td>\n",
       "      <td>+32.4644350</td>\n",
       "      <td>-086.4697659</td>\n",
       "      <td>POLYGON ((-86.47611 32.46765, -86.47564 32.467...</td>\n",
       "      <td>010010202002</td>\n",
       "      <td>238.55</td>\n",
       "    </tr>\n",
       "    <tr>\n",
       "      <th>133066</th>\n",
       "      <td>01</td>\n",
       "      <td>001</td>\n",
       "      <td>020300</td>\n",
       "      <td>1</td>\n",
       "      <td>010010203001</td>\n",
       "      <td>Block Group 1</td>\n",
       "      <td>G5030</td>\n",
       "      <td>S</td>\n",
       "      <td>3866513</td>\n",
       "      <td>9054</td>\n",
       "      <td>+32.4801750</td>\n",
       "      <td>-086.4607925</td>\n",
       "      <td>POLYGON ((-86.47087 32.47573, -86.47084 32.475...</td>\n",
       "      <td>010010203001</td>\n",
       "      <td>247.96</td>\n",
       "    </tr>\n",
       "  </tbody>\n",
       "</table>\n",
       "</div>"
      ],
      "text/plain": [
       "       STATEFP COUNTYFP TRACTCE BLKGRPCE         GEOID       NAMELSAD  MTFCC  \\\n",
       "135069      01      001  020100        1  010010201001  Block Group 1  G5030   \n",
       "133042      01      001  020100        2  010010201002  Block Group 2  G5030   \n",
       "133054      01      001  020200        1  010010202001  Block Group 1  G5030   \n",
       "133055      01      001  020200        2  010010202002  Block Group 2  G5030   \n",
       "133066      01      001  020300        1  010010203001  Block Group 1  G5030   \n",
       "\n",
       "       FUNCSTAT    ALAND  AWATER     INTPTLAT      INTPTLON  \\\n",
       "135069        S  4264299   28435  +32.4658320  -086.4896607   \n",
       "133042        S  5561004       0  +32.4858732  -086.4896724   \n",
       "133054        S  2058374       0  +32.4800823  -086.4749744   \n",
       "133055        S  1262444    5669  +32.4644350  -086.4697659   \n",
       "133066        S  3866513    9054  +32.4801750  -086.4607925   \n",
       "\n",
       "                                                 geometry  \\\n",
       "135069  POLYGON ((-86.51038 32.47225, -86.51031 32.472...   \n",
       "133042  POLYGON ((-86.50461 32.47723, -86.50453 32.477...   \n",
       "133054  POLYGON ((-86.48127 32.47744, -86.48126 32.477...   \n",
       "133055  POLYGON ((-86.47611 32.46765, -86.47564 32.467...   \n",
       "133066  POLYGON ((-86.47087 32.47573, -86.47084 32.475...   \n",
       "\n",
       "       Census block group ID  Health literacy estimate  \n",
       "135069          010010201001                    248.91  \n",
       "133042          010010201002                    248.66  \n",
       "133054          010010202001                    233.55  \n",
       "133055          010010202002                    238.55  \n",
       "133066          010010203001                    247.96  "
      ]
     },
     "execution_count": 77,
     "metadata": {},
     "output_type": "execute_result"
    },
    {
     "name": "stdout",
     "output_type": "stream",
     "text": [
      "Every cell is filled.\n"
     ]
    }
   ],
   "source": [
    "merged = pd.merge(combined_gdf, hls, left_on = \"GEOID\", right_on = \"Census block group ID\")\n",
    "merged.sort_values(\"GEOID\").head()\n",
    "\n",
    "# Check if every cell is filled\n",
    "is_filled = merged.notnull().values.all()\n",
    "\n",
    "# Display the result\n",
    "if is_filled:\n",
    "    print(\"Every cell is filled.\")\n",
    "else:\n",
    "    print(\"There are missing values in the dataframe.\")\n"
   ]
  },
  {
   "cell_type": "code",
   "execution_count": 84,
   "id": "9784cee8",
   "metadata": {},
   "outputs": [
    {
     "data": {
      "text/plain": [
       "(-130.0, -50.0)"
      ]
     },
     "execution_count": 84,
     "metadata": {},
     "output_type": "execute_result"
    },
    {
     "data": {
      "text/plain": [
       "(20.0, 50.0)"
      ]
     },
     "execution_count": 84,
     "metadata": {},
     "output_type": "execute_result"
    },
    {
     "data": {
      "text/plain": [
       "<AxesSubplot:>"
      ]
     },
     "execution_count": 84,
     "metadata": {},
     "output_type": "execute_result"
    },
    {
     "data": {
      "image/png": "[encoded data removed]",
      "text/plain": [
       "<Figure size 1000x1000 with 2 Axes>"
      ]
     },
     "metadata": {},
     "output_type": "display_data"
    }
   ],
   "source": [
    "import matplotlib.pyplot as plt\n",
    "import geopandas as gpd\n",
    "\n",
    "# geomerged = gpd.GeoDataFrame(merged)\n",
    "fig, ax = plt.subplots(figsize = (10, 10))\n",
    "ax = merged.plot(axes=ax)\n",
    "plt.xlim(-130, -50)\n",
    "plt.ylim(20, 50)\n",
    "merged.plot(ax = ax, column = \"Health literacy estimate\", legend = True)\n",
    "\n",
    "# us_map.plot(ax = ax, color='lightgrey')\n",
    "# al_locations.plot(ax = ax)"
   ]
  }
 ],
 "metadata": {
  "kernelspec": {
   "display_name": "Python 3 (ipykernel)",
   "language": "python",
   "name": "python3"
  },
  "language_info": {
   "codemirror_mode": {
    "name": "ipython",
    "version": 3
   },
   "file_extension": ".py",
   "mimetype": "text/x-python",
   "name": "python",
   "nbconvert_exporter": "python",
   "pygments_lexer": "ipython3",
   "version": "3.9.13"
  }
 },
 "nbformat": 4,
 "nbformat_minor": 5
}

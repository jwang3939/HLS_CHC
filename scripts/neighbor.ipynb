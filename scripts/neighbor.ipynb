{
 "cells": [
  {
   "cell_type": "code",
   "execution_count": null,
   "id": "b9bc7e04",
   "metadata": {},
   "outputs": [],
   "source": [
    "import geopandas as gpd\n",
    "import pysal.lib as ps\n",
    "import numpy as np\n",
    "\n",
    "counties = gpd.read_file(gpd.datasets.get_path('naturalearth_lowres')) \n",
    "counties = counties[counties['iso_a3'] == 'USA']\n",
    "counties = counties[['name', 'geometry']]\n",
    "counties = counties.rename(columns={'name': 'county'})\n",
    "counties = counties.reset_index(drop=True)\n",
    "\n",
    "neighbors = ps.weights.Queen.from_dataframe(counties)\n",
    "neighbors.transform = 'r'\n",
    "\n",
    "counties['neighbz'] = neighbors.weights\n",
    "counties['neighbz'] = counties['neighbz'].apply(lambda x: list(x))\n",
    "\n",
    "counties2 = counties.copy()\n",
    "counties2['rando'] = np.random.normal(100, 50, len(counties2))\n",
    "counties2['numid'] = range(1, len(counties2) + 1)\n",
    "\n",
    "counties3 = counties2.explode('neighbz')\n",
    "counties3['nb_fact'] = pd.Categorical(counties3['neighbz'])\n",
    "counties3 = counties3.reset_index(drop=True)\n",
    "\n",
    "counties4 = counties2.merge(counties3, left_on='numid', right_on='nb_fact')\n",
    "counties4 = counties4.drop(columns=['nb_fact', 'neighbz_y'])\n",
    "counties4 = counties4.rename(columns={'neighbz_x': 'neighbz'})\n",
    "\n",
    "counties5 = counties4.copy()"
   ]
  }
 ],
 "metadata": {
  "kernelspec": {
   "display_name": "Python 3 (ipykernel)",
   "language": "python",
   "name": "python3"
  },
  "language_info": {
   "codemirror_mode": {
    "name": "ipython",
    "version": 3
   },
   "file_extension": ".py",
   "mimetype": "text/x-python",
   "name": "python",
   "nbconvert_exporter": "python",
   "pygments_lexer": "ipython3",
   "version": "3.9.13"
  }
 },
 "nbformat": 4,
 "nbformat_minor": 5
}
